{
 "cells": [
  {
   "cell_type": "markdown",
   "metadata": {},
   "source": [
    "# Set Up"
   ]
  },
  {
   "cell_type": "code",
   "execution_count": 3,
   "metadata": {},
   "outputs": [],
   "source": [
    "# load necessary libraries\n",
    "import pandas as pd\n",
    "from pandas import read_excel\n",
    "import numpy as np\n",
    "from collections import Counter\n",
    "import seaborn as sns\n",
    "\n",
    "import sklearn\n",
    "from sklearn import tree\n",
    "from sklearn.model_selection import train_test_split\n",
    "\n",
    "import matplotlib.pyplot as plt\n",
    "from matplotlib import pylab\n",
    "import graphviz \n",
    "%matplotlib inline\n",
    "\n",
    "from pathlib import Path\n",
    "from collections import Counter\n"
   ]
  },
  {
   "cell_type": "code",
   "execution_count": 4,
   "metadata": {},
   "outputs": [
    {
     "data": {
      "text/plain": [
       "'1.6.1'"
      ]
     },
     "execution_count": 4,
     "metadata": {},
     "output_type": "execute_result"
    }
   ],
   "source": [
    "sklearn.__version__"
   ]
  },
  {
   "cell_type": "code",
   "execution_count": 5,
   "metadata": {},
   "outputs": [
    {
     "data": {
      "text/html": [
       "<div>\n",
       "<style scoped>\n",
       "    .dataframe tbody tr th:only-of-type {\n",
       "        vertical-align: middle;\n",
       "    }\n",
       "\n",
       "    .dataframe tbody tr th {\n",
       "        vertical-align: top;\n",
       "    }\n",
       "\n",
       "    .dataframe thead th {\n",
       "        text-align: right;\n",
       "    }\n",
       "</style>\n",
       "<table border=\"1\" class=\"dataframe\">\n",
       "  <thead>\n",
       "    <tr style=\"text-align: right;\">\n",
       "      <th></th>\n",
       "      <th>ability</th>\n",
       "      <th>able</th>\n",
       "      <th>absolutely</th>\n",
       "      <th>aca</th>\n",
       "      <th>aca marketplace</th>\n",
       "      <th>aca plan</th>\n",
       "      <th>aca pliant</th>\n",
       "      <th>aca subsidy</th>\n",
       "      <th>accept</th>\n",
       "      <th>accept medicaid</th>\n",
       "      <th>...</th>\n",
       "      <th>year ago</th>\n",
       "      <th>year old</th>\n",
       "      <th>year work</th>\n",
       "      <th>year year</th>\n",
       "      <th>yearly</th>\n",
       "      <th>yep</th>\n",
       "      <th>yes</th>\n",
       "      <th>york</th>\n",
       "      <th>young</th>\n",
       "      <th>zero</th>\n",
       "    </tr>\n",
       "  </thead>\n",
       "  <tbody>\n",
       "    <tr>\n",
       "      <th>0</th>\n",
       "      <td>0.0</td>\n",
       "      <td>0.0</td>\n",
       "      <td>0.406282</td>\n",
       "      <td>0.0</td>\n",
       "      <td>0.0</td>\n",
       "      <td>0.0</td>\n",
       "      <td>0.0</td>\n",
       "      <td>0.0</td>\n",
       "      <td>0.0</td>\n",
       "      <td>0.0</td>\n",
       "      <td>...</td>\n",
       "      <td>0.0</td>\n",
       "      <td>0.0</td>\n",
       "      <td>0.0</td>\n",
       "      <td>0.0</td>\n",
       "      <td>0.0</td>\n",
       "      <td>0.0</td>\n",
       "      <td>0.000000</td>\n",
       "      <td>0.0</td>\n",
       "      <td>0.0</td>\n",
       "      <td>0.000000</td>\n",
       "    </tr>\n",
       "    <tr>\n",
       "      <th>1</th>\n",
       "      <td>0.0</td>\n",
       "      <td>0.0</td>\n",
       "      <td>0.000000</td>\n",
       "      <td>0.0</td>\n",
       "      <td>0.0</td>\n",
       "      <td>0.0</td>\n",
       "      <td>0.0</td>\n",
       "      <td>0.0</td>\n",
       "      <td>0.0</td>\n",
       "      <td>0.0</td>\n",
       "      <td>...</td>\n",
       "      <td>0.0</td>\n",
       "      <td>0.0</td>\n",
       "      <td>0.0</td>\n",
       "      <td>0.0</td>\n",
       "      <td>0.0</td>\n",
       "      <td>0.0</td>\n",
       "      <td>0.000000</td>\n",
       "      <td>0.0</td>\n",
       "      <td>0.0</td>\n",
       "      <td>0.000000</td>\n",
       "    </tr>\n",
       "    <tr>\n",
       "      <th>2</th>\n",
       "      <td>0.0</td>\n",
       "      <td>0.0</td>\n",
       "      <td>0.000000</td>\n",
       "      <td>0.0</td>\n",
       "      <td>0.0</td>\n",
       "      <td>0.0</td>\n",
       "      <td>0.0</td>\n",
       "      <td>0.0</td>\n",
       "      <td>0.0</td>\n",
       "      <td>0.0</td>\n",
       "      <td>...</td>\n",
       "      <td>0.0</td>\n",
       "      <td>0.0</td>\n",
       "      <td>0.0</td>\n",
       "      <td>0.0</td>\n",
       "      <td>0.0</td>\n",
       "      <td>0.0</td>\n",
       "      <td>0.000000</td>\n",
       "      <td>0.0</td>\n",
       "      <td>0.0</td>\n",
       "      <td>0.184796</td>\n",
       "    </tr>\n",
       "    <tr>\n",
       "      <th>3</th>\n",
       "      <td>0.0</td>\n",
       "      <td>0.0</td>\n",
       "      <td>0.000000</td>\n",
       "      <td>0.0</td>\n",
       "      <td>0.0</td>\n",
       "      <td>0.0</td>\n",
       "      <td>0.0</td>\n",
       "      <td>0.0</td>\n",
       "      <td>0.0</td>\n",
       "      <td>0.0</td>\n",
       "      <td>...</td>\n",
       "      <td>0.0</td>\n",
       "      <td>0.0</td>\n",
       "      <td>0.0</td>\n",
       "      <td>0.0</td>\n",
       "      <td>0.0</td>\n",
       "      <td>0.0</td>\n",
       "      <td>0.442149</td>\n",
       "      <td>0.0</td>\n",
       "      <td>0.0</td>\n",
       "      <td>0.000000</td>\n",
       "    </tr>\n",
       "    <tr>\n",
       "      <th>4</th>\n",
       "      <td>0.0</td>\n",
       "      <td>0.0</td>\n",
       "      <td>0.000000</td>\n",
       "      <td>0.0</td>\n",
       "      <td>0.0</td>\n",
       "      <td>0.0</td>\n",
       "      <td>0.0</td>\n",
       "      <td>0.0</td>\n",
       "      <td>0.0</td>\n",
       "      <td>0.0</td>\n",
       "      <td>...</td>\n",
       "      <td>0.0</td>\n",
       "      <td>0.0</td>\n",
       "      <td>0.0</td>\n",
       "      <td>0.0</td>\n",
       "      <td>0.0</td>\n",
       "      <td>0.0</td>\n",
       "      <td>0.000000</td>\n",
       "      <td>0.0</td>\n",
       "      <td>0.0</td>\n",
       "      <td>0.000000</td>\n",
       "    </tr>\n",
       "  </tbody>\n",
       "</table>\n",
       "<p>5 rows × 1574 columns</p>\n",
       "</div>"
      ],
      "text/plain": [
       "   ability  able  absolutely  aca  aca marketplace  aca plan  aca pliant  \\\n",
       "0      0.0   0.0    0.406282  0.0              0.0       0.0         0.0   \n",
       "1      0.0   0.0    0.000000  0.0              0.0       0.0         0.0   \n",
       "2      0.0   0.0    0.000000  0.0              0.0       0.0         0.0   \n",
       "3      0.0   0.0    0.000000  0.0              0.0       0.0         0.0   \n",
       "4      0.0   0.0    0.000000  0.0              0.0       0.0         0.0   \n",
       "\n",
       "   aca subsidy  accept  accept medicaid  ...  year ago  year old  year work  \\\n",
       "0          0.0     0.0              0.0  ...       0.0       0.0        0.0   \n",
       "1          0.0     0.0              0.0  ...       0.0       0.0        0.0   \n",
       "2          0.0     0.0              0.0  ...       0.0       0.0        0.0   \n",
       "3          0.0     0.0              0.0  ...       0.0       0.0        0.0   \n",
       "4          0.0     0.0              0.0  ...       0.0       0.0        0.0   \n",
       "\n",
       "   year year  yearly  yep       yes  york  young      zero  \n",
       "0        0.0     0.0  0.0  0.000000   0.0    0.0  0.000000  \n",
       "1        0.0     0.0  0.0  0.000000   0.0    0.0  0.000000  \n",
       "2        0.0     0.0  0.0  0.000000   0.0    0.0  0.184796  \n",
       "3        0.0     0.0  0.0  0.442149   0.0    0.0  0.000000  \n",
       "4        0.0     0.0  0.0  0.000000   0.0    0.0  0.000000  \n",
       "\n",
       "[5 rows x 1574 columns]"
      ]
     },
     "execution_count": 5,
     "metadata": {},
     "output_type": "execute_result"
    }
   ],
   "source": [
    "# import vectorized dataset\n",
    "df_all = pd.read_csv(\"cleaned_total.csv\")\n",
    "df_all.head()"
   ]
  },
  {
   "cell_type": "code",
   "execution_count": 6,
   "metadata": {},
   "outputs": [
    {
     "data": {
      "text/plain": [
       "(7018, 1574)"
      ]
     },
     "execution_count": 6,
     "metadata": {},
     "output_type": "execute_result"
    }
   ],
   "source": [
    "df_all.shape"
   ]
  },
  {
   "cell_type": "code",
   "execution_count": 7,
   "metadata": {},
   "outputs": [
    {
     "data": {
      "text/plain": [
       "(1000, 1574)"
      ]
     },
     "execution_count": 7,
     "metadata": {},
     "output_type": "execute_result"
    }
   ],
   "source": [
    "X = df_all[:1000]\n",
    "X.shape"
   ]
  },
  {
   "cell_type": "code",
   "execution_count": 8,
   "metadata": {},
   "outputs": [
    {
     "data": {
      "text/plain": [
       "0      -1\n",
       "1     -99\n",
       "2     -99\n",
       "3     -99\n",
       "4     -99\n",
       "       ..\n",
       "995     1\n",
       "996     1\n",
       "997     1\n",
       "998     1\n",
       "999     1\n",
       "Name: final, Length: 1000, dtype: int64"
      ]
     },
     "execution_count": 8,
     "metadata": {},
     "output_type": "execute_result"
    }
   ],
   "source": [
    "# load labels\n",
    "df_labels = read_excel('comments_final.xlsx', usecols=['Date', 'Text', 'final'])\n",
    "y = df_labels['final']\n",
    "y"
   ]
  },
  {
   "cell_type": "code",
   "execution_count": 9,
   "metadata": {},
   "outputs": [
    {
     "data": {
      "text/plain": [
       "((1000, 1574), (1000,))"
      ]
     },
     "execution_count": 9,
     "metadata": {},
     "output_type": "execute_result"
    }
   ],
   "source": [
    "X.shape, y.shape"
   ]
  },
  {
   "cell_type": "code",
   "execution_count": 10,
   "metadata": {},
   "outputs": [
    {
     "data": {
      "text/plain": [
       "((700, 1574), (300, 1574), (700,), (300,))"
      ]
     },
     "execution_count": 10,
     "metadata": {},
     "output_type": "execute_result"
    }
   ],
   "source": [
    "X_train, X_test, y_train, y_test = train_test_split(X, y, test_size=0.3, random_state=42)\n",
    "X_train.shape, X_test.shape, y_train.shape, y_test.shape"
   ]
  },
  {
   "cell_type": "code",
   "execution_count": 13,
   "metadata": {},
   "outputs": [
    {
     "data": {
      "text/plain": [
       "final\n",
       " 0     0.451429\n",
       "-99    0.328571\n",
       "-1     0.187143\n",
       " 1     0.032857\n",
       "Name: proportion, dtype: float64"
      ]
     },
     "execution_count": 13,
     "metadata": {},
     "output_type": "execute_result"
    }
   ],
   "source": [
    "y_train.value_counts(normalize=True)"
   ]
  },
  {
   "cell_type": "code",
   "execution_count": 14,
   "metadata": {},
   "outputs": [
    {
     "data": {
      "text/plain": [
       "final\n",
       " 0     0.426667\n",
       "-99    0.316667\n",
       "-1     0.216667\n",
       " 1     0.040000\n",
       "Name: proportion, dtype: float64"
      ]
     },
     "execution_count": 14,
     "metadata": {},
     "output_type": "execute_result"
    }
   ],
   "source": [
    "y_test.value_counts(normalize=True)"
   ]
  },
  {
   "cell_type": "markdown",
   "metadata": {},
   "source": [
    "# Preliminary Analysis"
   ]
  },
  {
   "cell_type": "markdown",
   "metadata": {},
   "source": [
    "# Baseline Model - Decision Tree\n",
    "The following code trains a baseline Decision Tree model. "
   ]
  },
  {
   "cell_type": "code",
   "execution_count": 15,
   "metadata": {},
   "outputs": [],
   "source": [
    "from sklearn.tree import DecisionTreeClassifier"
   ]
  },
  {
   "cell_type": "code",
   "execution_count": 16,
   "metadata": {},
   "outputs": [],
   "source": [
    "dt_clf = DecisionTreeClassifier(random_state=42, criterion = 'entropy')"
   ]
  },
  {
   "cell_type": "code",
   "execution_count": 17,
   "metadata": {},
   "outputs": [],
   "source": [
    "dt_clf = dt_clf.fit(X_train, y_train)"
   ]
  },
  {
   "cell_type": "code",
   "execution_count": 18,
   "metadata": {},
   "outputs": [
    {
     "data": {
      "text/plain": [
       "0.643"
      ]
     },
     "execution_count": 18,
     "metadata": {},
     "output_type": "execute_result"
    }
   ],
   "source": [
    "np.round(dt_clf.score(X_test,y_test),3)\n",
    "# We obtain an accuracy of 0.603, which needs more fine-tuning"
   ]
  },
  {
   "cell_type": "code",
   "execution_count": 118,
   "metadata": {},
   "outputs": [
    {
     "data": {
      "image/svg+xml": [
       "<?xml version=\"1.0\" encoding=\"UTF-8\" standalone=\"no\"?>\n",
       "<!DOCTYPE svg PUBLIC \"-//W3C//DTD SVG 1.1//EN\"\n",
       " \"http://www.w3.org/Graphics/SVG/1.1/DTD/svg11.dtd\">\n",
       "<!-- Generated by graphviz version 9.0.0 (0)\n",
       " -->\n",
       "<!-- Title: Tree Pages: 1 -->\n",
       "<svg width=\"974pt\" height=\"520pt\"\n",
       " viewBox=\"0.00 0.00 974.00 520.00\" xmlns=\"http://www.w3.org/2000/svg\" xmlns:xlink=\"http://www.w3.org/1999/xlink\">\n",
       "<g id=\"graph0\" class=\"graph\" transform=\"scale(1 1) rotate(0) translate(4 516)\">\n",
       "<title>Tree</title>\n",
       "<polygon fill=\"white\" stroke=\"none\" points=\"-4,4 -4,-516 970,-516 970,4 -4,4\"/>\n",
       "<!-- 0 -->\n",
       "<g id=\"node1\" class=\"node\">\n",
       "<title>0</title>\n",
       "<path fill=\"#dbedfa\" stroke=\"black\" d=\"M728.5,-512C728.5,-512 576,-512 576,-512 570,-512 564,-506 564,-500 564,-500 564,-441 564,-441 564,-435 570,-429 576,-429 576,-429 728.5,-429 728.5,-429 734.5,-429 740.5,-435 740.5,-441 740.5,-441 740.5,-500 740.5,-500 740.5,-506 734.5,-512 728.5,-512\"/>\n",
       "<text text-anchor=\"start\" x=\"611.38\" y=\"-494.7\" font-family=\"Helvetica,sans-Serif\" font-size=\"14.00\">thank ≤ 0.031</text>\n",
       "<text text-anchor=\"start\" x=\"608.75\" y=\"-479.7\" font-family=\"Helvetica,sans-Serif\" font-size=\"14.00\">entropy = 1.66</text>\n",
       "<text text-anchor=\"start\" x=\"607.62\" y=\"-464.7\" font-family=\"Helvetica,sans-Serif\" font-size=\"14.00\">samples = 700</text>\n",
       "<text text-anchor=\"start\" x=\"572\" y=\"-449.7\" font-family=\"Helvetica,sans-Serif\" font-size=\"14.00\">value = [230, 131, 316, 23]</text>\n",
       "<text text-anchor=\"start\" x=\"625.25\" y=\"-434.7\" font-family=\"Helvetica,sans-Serif\" font-size=\"14.00\">class = 0</text>\n",
       "</g>\n",
       "<!-- 1 -->\n",
       "<g id=\"node2\" class=\"node\">\n",
       "<title>1</title>\n",
       "<path fill=\"#b6dbf5\" stroke=\"black\" d=\"M624,-393C624,-393 426.5,-393 426.5,-393 420.5,-393 414.5,-387 414.5,-381 414.5,-381 414.5,-322 414.5,-322 414.5,-316 420.5,-310 426.5,-310 426.5,-310 624,-310 624,-310 630,-310 636,-316 636,-322 636,-322 636,-381 636,-381 636,-387 630,-393 624,-393\"/>\n",
       "<text text-anchor=\"start\" x=\"471.62\" y=\"-375.7\" font-family=\"Helvetica,sans-Serif\" font-size=\"14.00\">insurance ≤ 0.014</text>\n",
       "<text text-anchor=\"start\" x=\"478\" y=\"-360.7\" font-family=\"Helvetica,sans-Serif\" font-size=\"14.00\">entropy = 1.637</text>\n",
       "<text text-anchor=\"start\" x=\"480.62\" y=\"-345.7\" font-family=\"Helvetica,sans-Serif\" font-size=\"14.00\">samples = 605</text>\n",
       "<text text-anchor=\"start\" x=\"422.5\" y=\"-330.7\" font-family=\"Helvetica,sans-Serif\" font-size=\"14.00\">value = [141.0, 129.0, 312.0, 23.0]</text>\n",
       "<text text-anchor=\"start\" x=\"498.25\" y=\"-315.7\" font-family=\"Helvetica,sans-Serif\" font-size=\"14.00\">class = 0</text>\n",
       "</g>\n",
       "<!-- 0&#45;&gt;1 -->\n",
       "<g id=\"edge1\" class=\"edge\">\n",
       "<title>0&#45;&gt;1</title>\n",
       "<path fill=\"none\" stroke=\"black\" d=\"M607.83,-428.58C598.11,-419.62 587.73,-410.06 577.72,-400.84\"/>\n",
       "<polygon fill=\"black\" stroke=\"black\" points=\"580.27,-398.43 570.54,-394.23 575.53,-403.58 580.27,-398.43\"/>\n",
       "<text text-anchor=\"middle\" x=\"570.45\" y=\"-412.38\" font-family=\"Helvetica,sans-Serif\" font-size=\"14.00\">True</text>\n",
       "</g>\n",
       "<!-- 328 -->\n",
       "<g id=\"node17\" class=\"node\">\n",
       "<title>328</title>\n",
       "<path fill=\"#e78946\" stroke=\"black\" d=\"M804,-393C804,-393 696.5,-393 696.5,-393 690.5,-393 684.5,-387 684.5,-381 684.5,-381 684.5,-322 684.5,-322 684.5,-316 690.5,-310 696.5,-310 696.5,-310 804,-310 804,-310 810,-310 816,-316 816,-322 816,-322 816,-381 816,-381 816,-387 810,-393 804,-393\"/>\n",
       "<text text-anchor=\"start\" x=\"702.25\" y=\"-375.7\" font-family=\"Helvetica,sans-Serif\" font-size=\"14.00\">medical ≤ 0.029</text>\n",
       "<text text-anchor=\"start\" x=\"703\" y=\"-360.7\" font-family=\"Helvetica,sans-Serif\" font-size=\"14.00\">entropy = 0.398</text>\n",
       "<text text-anchor=\"start\" x=\"709.38\" y=\"-345.7\" font-family=\"Helvetica,sans-Serif\" font-size=\"14.00\">samples = 95</text>\n",
       "<text text-anchor=\"start\" x=\"692.5\" y=\"-330.7\" font-family=\"Helvetica,sans-Serif\" font-size=\"14.00\">value = [89, 2, 4, 0]</text>\n",
       "<text text-anchor=\"start\" x=\"721\" y=\"-315.7\" font-family=\"Helvetica,sans-Serif\" font-size=\"14.00\">class = &#45;1</text>\n",
       "</g>\n",
       "<!-- 0&#45;&gt;328 -->\n",
       "<g id=\"edge16\" class=\"edge\">\n",
       "<title>0&#45;&gt;328</title>\n",
       "<path fill=\"none\" stroke=\"black\" d=\"M686.53,-428.58C693.73,-419.98 701.4,-410.82 708.83,-401.95\"/>\n",
       "<polygon fill=\"black\" stroke=\"black\" points=\"711.45,-404.27 715.19,-394.36 706.08,-399.78 711.45,-404.27\"/>\n",
       "<text text-anchor=\"middle\" x=\"718.36\" y=\"-412.3\" font-family=\"Helvetica,sans-Serif\" font-size=\"14.00\">False</text>\n",
       "</g>\n",
       "<!-- 2 -->\n",
       "<g id=\"node3\" class=\"node\">\n",
       "<title>2</title>\n",
       "<path fill=\"#daedfa\" stroke=\"black\" d=\"M366.75,-274C366.75,-274 221.75,-274 221.75,-274 215.75,-274 209.75,-268 209.75,-262 209.75,-262 209.75,-203 209.75,-203 209.75,-197 215.75,-191 221.75,-191 221.75,-191 366.75,-191 366.75,-191 372.75,-191 378.75,-197 378.75,-203 378.75,-203 378.75,-262 378.75,-262 378.75,-268 372.75,-274 366.75,-274\"/>\n",
       "<text text-anchor=\"start\" x=\"257.12\" y=\"-256.7\" font-family=\"Helvetica,sans-Serif\" font-size=\"14.00\">plan ≤ 0.023</text>\n",
       "<text text-anchor=\"start\" x=\"250.75\" y=\"-241.7\" font-family=\"Helvetica,sans-Serif\" font-size=\"14.00\">entropy = 1.63</text>\n",
       "<text text-anchor=\"start\" x=\"249.62\" y=\"-226.7\" font-family=\"Helvetica,sans-Serif\" font-size=\"14.00\">samples = 421</text>\n",
       "<text text-anchor=\"start\" x=\"217.75\" y=\"-211.7\" font-family=\"Helvetica,sans-Serif\" font-size=\"14.00\">value = [140, 77, 193, 11]</text>\n",
       "<text text-anchor=\"start\" x=\"267.25\" y=\"-196.7\" font-family=\"Helvetica,sans-Serif\" font-size=\"14.00\">class = 0</text>\n",
       "</g>\n",
       "<!-- 1&#45;&gt;2 -->\n",
       "<g id=\"edge2\" class=\"edge\">\n",
       "<title>1&#45;&gt;2</title>\n",
       "<path fill=\"none\" stroke=\"black\" d=\"M444.46,-309.58C425.29,-299.87 404.72,-289.45 385.13,-279.53\"/>\n",
       "<polygon fill=\"black\" stroke=\"black\" points=\"386.85,-276.48 376.35,-275.08 383.69,-282.72 386.85,-276.48\"/>\n",
       "</g>\n",
       "<!-- 245 -->\n",
       "<g id=\"node10\" class=\"node\">\n",
       "<title>245</title>\n",
       "<path fill=\"#9acdf2\" stroke=\"black\" d=\"M612.75,-274C612.75,-274 437.75,-274 437.75,-274 431.75,-274 425.75,-268 425.75,-262 425.75,-262 425.75,-203 425.75,-203 425.75,-197 431.75,-191 437.75,-191 437.75,-191 612.75,-191 612.75,-191 618.75,-191 624.75,-197 624.75,-203 624.75,-203 624.75,-262 624.75,-262 624.75,-268 618.75,-274 612.75,-274\"/>\n",
       "<text text-anchor=\"start\" x=\"472\" y=\"-256.7\" font-family=\"Helvetica,sans-Serif\" font-size=\"14.00\">treatment ≤ 0.131</text>\n",
       "<text text-anchor=\"start\" x=\"481.75\" y=\"-241.7\" font-family=\"Helvetica,sans-Serif\" font-size=\"14.00\">entropy = 1.22</text>\n",
       "<text text-anchor=\"start\" x=\"480.62\" y=\"-226.7\" font-family=\"Helvetica,sans-Serif\" font-size=\"14.00\">samples = 184</text>\n",
       "<text text-anchor=\"start\" x=\"433.75\" y=\"-211.7\" font-family=\"Helvetica,sans-Serif\" font-size=\"14.00\">value = [1.0, 52.0, 119.0, 12.0]</text>\n",
       "<text text-anchor=\"start\" x=\"498.25\" y=\"-196.7\" font-family=\"Helvetica,sans-Serif\" font-size=\"14.00\">class = 0</text>\n",
       "</g>\n",
       "<!-- 1&#45;&gt;245 -->\n",
       "<g id=\"edge9\" class=\"edge\">\n",
       "<title>1&#45;&gt;245</title>\n",
       "<path fill=\"none\" stroke=\"black\" d=\"M525.25,-309.58C525.25,-301.79 525.25,-293.53 525.25,-285.45\"/>\n",
       "<polygon fill=\"black\" stroke=\"black\" points=\"528.75,-285.71 525.25,-275.71 521.75,-285.71 528.75,-285.71\"/>\n",
       "</g>\n",
       "<!-- 3 -->\n",
       "<g id=\"node4\" class=\"node\">\n",
       "<title>3</title>\n",
       "<path fill=\"#fffefe\" stroke=\"black\" d=\"M194.5,-155C194.5,-155 12,-155 12,-155 6,-155 0,-149 0,-143 0,-143 0,-84 0,-84 0,-78 6,-72 12,-72 12,-72 194.5,-72 194.5,-72 200.5,-72 206.5,-78 206.5,-84 206.5,-84 206.5,-143 206.5,-143 206.5,-149 200.5,-155 194.5,-155\"/>\n",
       "<text text-anchor=\"start\" x=\"64.25\" y=\"-137.7\" font-family=\"Helvetica,sans-Serif\" font-size=\"14.00\">deny ≤ 0.064</text>\n",
       "<text text-anchor=\"start\" x=\"59.75\" y=\"-122.7\" font-family=\"Helvetica,sans-Serif\" font-size=\"14.00\">entropy = 1.61</text>\n",
       "<text text-anchor=\"start\" x=\"58.62\" y=\"-107.7\" font-family=\"Helvetica,sans-Serif\" font-size=\"14.00\">samples = 341</text>\n",
       "<text text-anchor=\"start\" x=\"8\" y=\"-92.7\" font-family=\"Helvetica,sans-Serif\" font-size=\"14.00\">value = [138.0, 59.0, 137.0, 7.0]</text>\n",
       "<text text-anchor=\"start\" x=\"74\" y=\"-77.7\" font-family=\"Helvetica,sans-Serif\" font-size=\"14.00\">class = &#45;1</text>\n",
       "</g>\n",
       "<!-- 2&#45;&gt;3 -->\n",
       "<g id=\"edge3\" class=\"edge\">\n",
       "<title>2&#45;&gt;3</title>\n",
       "<path fill=\"none\" stroke=\"black\" d=\"M227.45,-190.58C212.04,-181.14 195.52,-171.02 179.74,-161.35\"/>\n",
       "<polygon fill=\"black\" stroke=\"black\" points=\"181.66,-158.43 171.31,-156.19 178,-164.4 181.66,-158.43\"/>\n",
       "</g>\n",
       "<!-- 204 -->\n",
       "<g id=\"node7\" class=\"node\">\n",
       "<title>204</title>\n",
       "<path fill=\"#86c3ef\" stroke=\"black\" d=\"M351.75,-155C351.75,-155 236.75,-155 236.75,-155 230.75,-155 224.75,-149 224.75,-143 224.75,-143 224.75,-84 224.75,-84 224.75,-78 230.75,-72 236.75,-72 236.75,-72 351.75,-72 351.75,-72 357.75,-72 363.75,-78 363.75,-84 363.75,-84 363.75,-143 363.75,-143 363.75,-149 357.75,-155 351.75,-155\"/>\n",
       "<text text-anchor=\"start\" x=\"259\" y=\"-137.7\" font-family=\"Helvetica,sans-Serif\" font-size=\"14.00\">gov ≤ 0.218</text>\n",
       "<text text-anchor=\"start\" x=\"247\" y=\"-122.7\" font-family=\"Helvetica,sans-Serif\" font-size=\"14.00\">entropy = 1.194</text>\n",
       "<text text-anchor=\"start\" x=\"253.38\" y=\"-107.7\" font-family=\"Helvetica,sans-Serif\" font-size=\"14.00\">samples = 80</text>\n",
       "<text text-anchor=\"start\" x=\"232.75\" y=\"-92.7\" font-family=\"Helvetica,sans-Serif\" font-size=\"14.00\">value = [2, 18, 56, 4]</text>\n",
       "<text text-anchor=\"start\" x=\"267.25\" y=\"-77.7\" font-family=\"Helvetica,sans-Serif\" font-size=\"14.00\">class = 0</text>\n",
       "</g>\n",
       "<!-- 2&#45;&gt;204 -->\n",
       "<g id=\"edge6\" class=\"edge\">\n",
       "<title>2&#45;&gt;204</title>\n",
       "<path fill=\"none\" stroke=\"black\" d=\"M294.25,-190.58C294.25,-182.79 294.25,-174.53 294.25,-166.45\"/>\n",
       "<polygon fill=\"black\" stroke=\"black\" points=\"297.75,-166.71 294.25,-156.71 290.75,-166.71 297.75,-166.71\"/>\n",
       "</g>\n",
       "<!-- 4 -->\n",
       "<g id=\"node5\" class=\"node\">\n",
       "<title>4</title>\n",
       "<path fill=\"#c0c0c0\" stroke=\"black\" d=\"M82.25,-36C82.25,-36 52.25,-36 52.25,-36 46.25,-36 40.25,-30 40.25,-24 40.25,-24 40.25,-12 40.25,-12 40.25,-6 46.25,0 52.25,0 52.25,0 82.25,0 82.25,0 88.25,0 94.25,-6 94.25,-12 94.25,-12 94.25,-24 94.25,-24 94.25,-30 88.25,-36 82.25,-36\"/>\n",
       "<text text-anchor=\"middle\" x=\"67.25\" y=\"-12.2\" font-family=\"Helvetica,sans-Serif\" font-size=\"14.00\">(...)</text>\n",
       "</g>\n",
       "<!-- 3&#45;&gt;4 -->\n",
       "<g id=\"edge4\" class=\"edge\">\n",
       "<title>3&#45;&gt;4</title>\n",
       "<path fill=\"none\" stroke=\"black\" d=\"M87.56,-71.76C84.36,-63.43 81.05,-54.84 78.06,-47.07\"/>\n",
       "<polygon fill=\"black\" stroke=\"black\" points=\"81.35,-45.89 74.5,-37.82 74.82,-48.41 81.35,-45.89\"/>\n",
       "</g>\n",
       "<!-- 199 -->\n",
       "<g id=\"node6\" class=\"node\">\n",
       "<title>199</title>\n",
       "<path fill=\"#c0c0c0\" stroke=\"black\" d=\"M154.25,-36C154.25,-36 124.25,-36 124.25,-36 118.25,-36 112.25,-30 112.25,-24 112.25,-24 112.25,-12 112.25,-12 112.25,-6 118.25,0 124.25,0 124.25,0 154.25,0 154.25,0 160.25,0 166.25,-6 166.25,-12 166.25,-12 166.25,-24 166.25,-24 166.25,-30 160.25,-36 154.25,-36\"/>\n",
       "<text text-anchor=\"middle\" x=\"139.25\" y=\"-12.2\" font-family=\"Helvetica,sans-Serif\" font-size=\"14.00\">(...)</text>\n",
       "</g>\n",
       "<!-- 3&#45;&gt;199 -->\n",
       "<g id=\"edge5\" class=\"edge\">\n",
       "<title>3&#45;&gt;199</title>\n",
       "<path fill=\"none\" stroke=\"black\" d=\"M118.94,-71.76C122.14,-63.43 125.45,-54.84 128.44,-47.07\"/>\n",
       "<polygon fill=\"black\" stroke=\"black\" points=\"131.68,-48.41 132,-37.82 125.15,-45.89 131.68,-48.41\"/>\n",
       "</g>\n",
       "<!-- 205 -->\n",
       "<g id=\"node8\" class=\"node\">\n",
       "<title>205</title>\n",
       "<path fill=\"#c0c0c0\" stroke=\"black\" d=\"M263.25,-36C263.25,-36 233.25,-36 233.25,-36 227.25,-36 221.25,-30 221.25,-24 221.25,-24 221.25,-12 221.25,-12 221.25,-6 227.25,0 233.25,0 233.25,0 263.25,0 263.25,0 269.25,0 275.25,-6 275.25,-12 275.25,-12 275.25,-24 275.25,-24 275.25,-30 269.25,-36 263.25,-36\"/>\n",
       "<text text-anchor=\"middle\" x=\"248.25\" y=\"-12.2\" font-family=\"Helvetica,sans-Serif\" font-size=\"14.00\">(...)</text>\n",
       "</g>\n",
       "<!-- 204&#45;&gt;205 -->\n",
       "<g id=\"edge7\" class=\"edge\">\n",
       "<title>204&#45;&gt;205</title>\n",
       "<path fill=\"none\" stroke=\"black\" d=\"M274.21,-71.76C270.01,-63.24 265.68,-54.44 261.79,-46.53\"/>\n",
       "<polygon fill=\"black\" stroke=\"black\" points=\"265.04,-45.19 257.48,-37.76 258.76,-48.28 265.04,-45.19\"/>\n",
       "</g>\n",
       "<!-- 242 -->\n",
       "<g id=\"node9\" class=\"node\">\n",
       "<title>242</title>\n",
       "<path fill=\"#c0c0c0\" stroke=\"black\" d=\"M335.25,-36C335.25,-36 305.25,-36 305.25,-36 299.25,-36 293.25,-30 293.25,-24 293.25,-24 293.25,-12 293.25,-12 293.25,-6 299.25,0 305.25,0 305.25,0 335.25,0 335.25,0 341.25,0 347.25,-6 347.25,-12 347.25,-12 347.25,-24 347.25,-24 347.25,-30 341.25,-36 335.25,-36\"/>\n",
       "<text text-anchor=\"middle\" x=\"320.25\" y=\"-12.2\" font-family=\"Helvetica,sans-Serif\" font-size=\"14.00\">(...)</text>\n",
       "</g>\n",
       "<!-- 204&#45;&gt;242 -->\n",
       "<g id=\"edge8\" class=\"edge\">\n",
       "<title>204&#45;&gt;242</title>\n",
       "<path fill=\"none\" stroke=\"black\" d=\"M305.58,-71.76C307.87,-63.53 310.23,-55.04 312.37,-47.34\"/>\n",
       "<polygon fill=\"black\" stroke=\"black\" points=\"315.7,-48.44 315,-37.86 308.95,-46.56 315.7,-48.44\"/>\n",
       "</g>\n",
       "<!-- 246 -->\n",
       "<g id=\"node11\" class=\"node\">\n",
       "<title>246</title>\n",
       "<path fill=\"#92c9f1\" stroke=\"black\" d=\"M516.5,-155C516.5,-155 394,-155 394,-155 388,-155 382,-149 382,-143 382,-143 382,-84 382,-84 382,-78 388,-72 394,-72 394,-72 516.5,-72 516.5,-72 522.5,-72 528.5,-78 528.5,-84 528.5,-84 528.5,-143 528.5,-143 528.5,-149 522.5,-155 516.5,-155\"/>\n",
       "<text text-anchor=\"start\" x=\"401.62\" y=\"-137.7\" font-family=\"Helvetica,sans-Serif\" font-size=\"14.00\">insurance ≤ 0.079</text>\n",
       "<text text-anchor=\"start\" x=\"408\" y=\"-122.7\" font-family=\"Helvetica,sans-Serif\" font-size=\"14.00\">entropy = 1.141</text>\n",
       "<text text-anchor=\"start\" x=\"410.62\" y=\"-107.7\" font-family=\"Helvetica,sans-Serif\" font-size=\"14.00\">samples = 175</text>\n",
       "<text text-anchor=\"start\" x=\"390\" y=\"-92.7\" font-family=\"Helvetica,sans-Serif\" font-size=\"14.00\">value = [1, 48, 118, 8]</text>\n",
       "<text text-anchor=\"start\" x=\"428.25\" y=\"-77.7\" font-family=\"Helvetica,sans-Serif\" font-size=\"14.00\">class = 0</text>\n",
       "</g>\n",
       "<!-- 245&#45;&gt;246 -->\n",
       "<g id=\"edge10\" class=\"edge\">\n",
       "<title>245&#45;&gt;246</title>\n",
       "<path fill=\"none\" stroke=\"black\" d=\"M500.77,-190.58C495.84,-182.34 490.6,-173.58 485.5,-165.06\"/>\n",
       "<polygon fill=\"black\" stroke=\"black\" points=\"488.52,-163.28 480.38,-156.5 482.51,-166.88 488.52,-163.28\"/>\n",
       "</g>\n",
       "<!-- 321 -->\n",
       "<g id=\"node14\" class=\"node\">\n",
       "<title>321</title>\n",
       "<path fill=\"#ffffff\" stroke=\"black\" d=\"M658.25,-155C658.25,-155 558.25,-155 558.25,-155 552.25,-155 546.25,-149 546.25,-143 546.25,-143 546.25,-84 546.25,-84 546.25,-78 552.25,-72 558.25,-72 558.25,-72 658.25,-72 658.25,-72 664.25,-72 670.25,-78 670.25,-84 670.25,-84 670.25,-143 670.25,-143 670.25,-149 664.25,-155 658.25,-155\"/>\n",
       "<text text-anchor=\"start\" x=\"555\" y=\"-137.7\" font-family=\"Helvetica,sans-Serif\" font-size=\"14.00\">treatment ≤ 0.275</text>\n",
       "<text text-anchor=\"start\" x=\"561\" y=\"-122.7\" font-family=\"Helvetica,sans-Serif\" font-size=\"14.00\">entropy = 1.392</text>\n",
       "<text text-anchor=\"start\" x=\"571.12\" y=\"-107.7\" font-family=\"Helvetica,sans-Serif\" font-size=\"14.00\">samples = 9</text>\n",
       "<text text-anchor=\"start\" x=\"554.25\" y=\"-92.7\" font-family=\"Helvetica,sans-Serif\" font-size=\"14.00\">value = [0, 4, 1, 4]</text>\n",
       "<text text-anchor=\"start\" x=\"575.25\" y=\"-77.7\" font-family=\"Helvetica,sans-Serif\" font-size=\"14.00\">class = &#45;99</text>\n",
       "</g>\n",
       "<!-- 245&#45;&gt;321 -->\n",
       "<g id=\"edge13\" class=\"edge\">\n",
       "<title>245&#45;&gt;321</title>\n",
       "<path fill=\"none\" stroke=\"black\" d=\"M554.28,-190.58C560.25,-182.16 566.61,-173.2 572.78,-164.5\"/>\n",
       "<polygon fill=\"black\" stroke=\"black\" points=\"575.57,-166.62 578.5,-156.43 569.86,-162.57 575.57,-166.62\"/>\n",
       "</g>\n",
       "<!-- 247 -->\n",
       "<g id=\"node12\" class=\"node\">\n",
       "<title>247</title>\n",
       "<path fill=\"#c0c0c0\" stroke=\"black\" d=\"M420.25,-36C420.25,-36 390.25,-36 390.25,-36 384.25,-36 378.25,-30 378.25,-24 378.25,-24 378.25,-12 378.25,-12 378.25,-6 384.25,0 390.25,0 390.25,0 420.25,0 420.25,0 426.25,0 432.25,-6 432.25,-12 432.25,-12 432.25,-24 432.25,-24 432.25,-30 426.25,-36 420.25,-36\"/>\n",
       "<text text-anchor=\"middle\" x=\"405.25\" y=\"-12.2\" font-family=\"Helvetica,sans-Serif\" font-size=\"14.00\">(...)</text>\n",
       "</g>\n",
       "<!-- 246&#45;&gt;247 -->\n",
       "<g id=\"edge11\" class=\"edge\">\n",
       "<title>246&#45;&gt;247</title>\n",
       "<path fill=\"none\" stroke=\"black\" d=\"M433.46,-71.76C428.91,-63.24 424.2,-54.44 419.97,-46.53\"/>\n",
       "<polygon fill=\"black\" stroke=\"black\" points=\"423.07,-44.91 415.27,-37.74 416.9,-48.21 423.07,-44.91\"/>\n",
       "</g>\n",
       "<!-- 258 -->\n",
       "<g id=\"node13\" class=\"node\">\n",
       "<title>258</title>\n",
       "<path fill=\"#c0c0c0\" stroke=\"black\" d=\"M492.25,-36C492.25,-36 462.25,-36 462.25,-36 456.25,-36 450.25,-30 450.25,-24 450.25,-24 450.25,-12 450.25,-12 450.25,-6 456.25,0 462.25,0 462.25,0 492.25,0 492.25,0 498.25,0 504.25,-6 504.25,-12 504.25,-12 504.25,-24 504.25,-24 504.25,-30 498.25,-36 492.25,-36\"/>\n",
       "<text text-anchor=\"middle\" x=\"477.25\" y=\"-12.2\" font-family=\"Helvetica,sans-Serif\" font-size=\"14.00\">(...)</text>\n",
       "</g>\n",
       "<!-- 246&#45;&gt;258 -->\n",
       "<g id=\"edge12\" class=\"edge\">\n",
       "<title>246&#45;&gt;258</title>\n",
       "<path fill=\"none\" stroke=\"black\" d=\"M464.84,-71.76C466.77,-63.53 468.77,-55.04 470.58,-47.34\"/>\n",
       "<polygon fill=\"black\" stroke=\"black\" points=\"473.92,-48.41 472.81,-37.88 467.11,-46.81 473.92,-48.41\"/>\n",
       "</g>\n",
       "<!-- 322 -->\n",
       "<g id=\"node15\" class=\"node\">\n",
       "<title>322</title>\n",
       "<path fill=\"#c0c0c0\" stroke=\"black\" d=\"M568.25,-36C568.25,-36 538.25,-36 538.25,-36 532.25,-36 526.25,-30 526.25,-24 526.25,-24 526.25,-12 526.25,-12 526.25,-6 532.25,0 538.25,0 538.25,0 568.25,0 568.25,0 574.25,0 580.25,-6 580.25,-12 580.25,-12 580.25,-24 580.25,-24 580.25,-30 574.25,-36 568.25,-36\"/>\n",
       "<text text-anchor=\"middle\" x=\"553.25\" y=\"-12.2\" font-family=\"Helvetica,sans-Serif\" font-size=\"14.00\">(...)</text>\n",
       "</g>\n",
       "<!-- 321&#45;&gt;322 -->\n",
       "<g id=\"edge14\" class=\"edge\">\n",
       "<title>321&#45;&gt;322</title>\n",
       "<path fill=\"none\" stroke=\"black\" d=\"M584.29,-71.76C579.21,-63.14 573.98,-54.24 569.29,-46.26\"/>\n",
       "<polygon fill=\"black\" stroke=\"black\" points=\"572.34,-44.55 564.26,-37.71 566.31,-48.1 572.34,-44.55\"/>\n",
       "</g>\n",
       "<!-- 325 -->\n",
       "<g id=\"node16\" class=\"node\">\n",
       "<title>325</title>\n",
       "<path fill=\"#c0c0c0\" stroke=\"black\" d=\"M640.25,-36C640.25,-36 610.25,-36 610.25,-36 604.25,-36 598.25,-30 598.25,-24 598.25,-24 598.25,-12 598.25,-12 598.25,-6 604.25,0 610.25,0 610.25,0 640.25,0 640.25,0 646.25,0 652.25,-6 652.25,-12 652.25,-12 652.25,-24 652.25,-24 652.25,-30 646.25,-36 640.25,-36\"/>\n",
       "<text text-anchor=\"middle\" x=\"625.25\" y=\"-12.2\" font-family=\"Helvetica,sans-Serif\" font-size=\"14.00\">(...)</text>\n",
       "</g>\n",
       "<!-- 321&#45;&gt;325 -->\n",
       "<g id=\"edge15\" class=\"edge\">\n",
       "<title>321&#45;&gt;325</title>\n",
       "<path fill=\"none\" stroke=\"black\" d=\"M615.66,-71.76C617.14,-63.62 618.66,-55.24 620.05,-47.61\"/>\n",
       "<polygon fill=\"black\" stroke=\"black\" points=\"623.47,-48.36 621.81,-37.89 616.58,-47.11 623.47,-48.36\"/>\n",
       "</g>\n",
       "<!-- 329 -->\n",
       "<g id=\"node18\" class=\"node\">\n",
       "<title>329</title>\n",
       "<path fill=\"#eca26d\" stroke=\"black\" d=\"M804,-274C804,-274 696.5,-274 696.5,-274 690.5,-274 684.5,-268 684.5,-262 684.5,-262 684.5,-203 684.5,-203 684.5,-197 690.5,-191 696.5,-191 696.5,-191 804,-191 804,-191 810,-191 816,-197 816,-203 816,-203 816,-262 816,-262 816,-268 810,-274 804,-274\"/>\n",
       "<text text-anchor=\"start\" x=\"709.38\" y=\"-256.7\" font-family=\"Helvetica,sans-Serif\" font-size=\"14.00\">thank ≤ 0.194</text>\n",
       "<text text-anchor=\"start\" x=\"703\" y=\"-241.7\" font-family=\"Helvetica,sans-Serif\" font-size=\"14.00\">entropy = 0.968</text>\n",
       "<text text-anchor=\"start\" x=\"709.38\" y=\"-226.7\" font-family=\"Helvetica,sans-Serif\" font-size=\"14.00\">samples = 27</text>\n",
       "<text text-anchor=\"start\" x=\"692.5\" y=\"-211.7\" font-family=\"Helvetica,sans-Serif\" font-size=\"14.00\">value = [21, 2, 4, 0]</text>\n",
       "<text text-anchor=\"start\" x=\"721\" y=\"-196.7\" font-family=\"Helvetica,sans-Serif\" font-size=\"14.00\">class = &#45;1</text>\n",
       "</g>\n",
       "<!-- 328&#45;&gt;329 -->\n",
       "<g id=\"edge17\" class=\"edge\">\n",
       "<title>328&#45;&gt;329</title>\n",
       "<path fill=\"none\" stroke=\"black\" d=\"M750.25,-309.58C750.25,-301.79 750.25,-293.53 750.25,-285.45\"/>\n",
       "<polygon fill=\"black\" stroke=\"black\" points=\"753.75,-285.71 750.25,-275.71 746.75,-285.71 753.75,-285.71\"/>\n",
       "</g>\n",
       "<!-- 340 -->\n",
       "<g id=\"node23\" class=\"node\">\n",
       "<title>340</title>\n",
       "<path fill=\"#e58139\" stroke=\"black\" d=\"M954,-266.5C954,-266.5 846.5,-266.5 846.5,-266.5 840.5,-266.5 834.5,-260.5 834.5,-254.5 834.5,-254.5 834.5,-210.5 834.5,-210.5 834.5,-204.5 840.5,-198.5 846.5,-198.5 846.5,-198.5 954,-198.5 954,-198.5 960,-198.5 966,-204.5 966,-210.5 966,-210.5 966,-254.5 966,-254.5 966,-260.5 960,-266.5 954,-266.5\"/>\n",
       "<text text-anchor=\"start\" x=\"860.5\" y=\"-249.2\" font-family=\"Helvetica,sans-Serif\" font-size=\"14.00\">entropy = 0.0</text>\n",
       "<text text-anchor=\"start\" x=\"859.38\" y=\"-234.2\" font-family=\"Helvetica,sans-Serif\" font-size=\"14.00\">samples = 68</text>\n",
       "<text text-anchor=\"start\" x=\"842.5\" y=\"-219.2\" font-family=\"Helvetica,sans-Serif\" font-size=\"14.00\">value = [68, 0, 0, 0]</text>\n",
       "<text text-anchor=\"start\" x=\"871\" y=\"-204.2\" font-family=\"Helvetica,sans-Serif\" font-size=\"14.00\">class = &#45;1</text>\n",
       "</g>\n",
       "<!-- 328&#45;&gt;340 -->\n",
       "<g id=\"edge22\" class=\"edge\">\n",
       "<title>328&#45;&gt;340</title>\n",
       "<path fill=\"none\" stroke=\"black\" d=\"M802.71,-309.58C817.54,-298.01 833.67,-285.43 848.47,-273.89\"/>\n",
       "<polygon fill=\"black\" stroke=\"black\" points=\"850.55,-276.7 856.29,-267.79 846.25,-271.18 850.55,-276.7\"/>\n",
       "</g>\n",
       "<!-- 330 -->\n",
       "<g id=\"node19\" class=\"node\">\n",
       "<title>330</title>\n",
       "<path fill=\"#bddef6\" stroke=\"black\" d=\"M800.25,-155C800.25,-155 700.25,-155 700.25,-155 694.25,-155 688.25,-149 688.25,-143 688.25,-143 688.25,-84 688.25,-84 688.25,-78 694.25,-72 700.25,-72 700.25,-72 800.25,-72 800.25,-72 806.25,-72 812.25,-78 812.25,-84 812.25,-84 812.25,-143 812.25,-143 812.25,-149 806.25,-155 800.25,-155\"/>\n",
       "<text text-anchor=\"start\" x=\"709.38\" y=\"-137.7\" font-family=\"Helvetica,sans-Serif\" font-size=\"14.00\">thank ≤ 0.139</text>\n",
       "<text text-anchor=\"start\" x=\"710.5\" y=\"-122.7\" font-family=\"Helvetica,sans-Serif\" font-size=\"14.00\">entropy = 1.5</text>\n",
       "<text text-anchor=\"start\" x=\"713.12\" y=\"-107.7\" font-family=\"Helvetica,sans-Serif\" font-size=\"14.00\">samples = 8</text>\n",
       "<text text-anchor=\"start\" x=\"696.25\" y=\"-92.7\" font-family=\"Helvetica,sans-Serif\" font-size=\"14.00\">value = [2, 2, 4, 0]</text>\n",
       "<text text-anchor=\"start\" x=\"723.25\" y=\"-77.7\" font-family=\"Helvetica,sans-Serif\" font-size=\"14.00\">class = 0</text>\n",
       "</g>\n",
       "<!-- 329&#45;&gt;330 -->\n",
       "<g id=\"edge18\" class=\"edge\">\n",
       "<title>329&#45;&gt;330</title>\n",
       "<path fill=\"none\" stroke=\"black\" d=\"M750.25,-190.58C750.25,-182.79 750.25,-174.53 750.25,-166.45\"/>\n",
       "<polygon fill=\"black\" stroke=\"black\" points=\"753.75,-166.71 750.25,-156.71 746.75,-166.71 753.75,-166.71\"/>\n",
       "</g>\n",
       "<!-- 339 -->\n",
       "<g id=\"node22\" class=\"node\">\n",
       "<title>339</title>\n",
       "<path fill=\"#e58139\" stroke=\"black\" d=\"M950,-147.5C950,-147.5 842.5,-147.5 842.5,-147.5 836.5,-147.5 830.5,-141.5 830.5,-135.5 830.5,-135.5 830.5,-91.5 830.5,-91.5 830.5,-85.5 836.5,-79.5 842.5,-79.5 842.5,-79.5 950,-79.5 950,-79.5 956,-79.5 962,-85.5 962,-91.5 962,-91.5 962,-135.5 962,-135.5 962,-141.5 956,-147.5 950,-147.5\"/>\n",
       "<text text-anchor=\"start\" x=\"856.5\" y=\"-130.2\" font-family=\"Helvetica,sans-Serif\" font-size=\"14.00\">entropy = 0.0</text>\n",
       "<text text-anchor=\"start\" x=\"855.38\" y=\"-115.2\" font-family=\"Helvetica,sans-Serif\" font-size=\"14.00\">samples = 19</text>\n",
       "<text text-anchor=\"start\" x=\"838.5\" y=\"-100.2\" font-family=\"Helvetica,sans-Serif\" font-size=\"14.00\">value = [19, 0, 0, 0]</text>\n",
       "<text text-anchor=\"start\" x=\"867\" y=\"-85.2\" font-family=\"Helvetica,sans-Serif\" font-size=\"14.00\">class = &#45;1</text>\n",
       "</g>\n",
       "<!-- 329&#45;&gt;339 -->\n",
       "<g id=\"edge21\" class=\"edge\">\n",
       "<title>329&#45;&gt;339</title>\n",
       "<path fill=\"none\" stroke=\"black\" d=\"M801.31,-190.58C815.75,-179.01 831.45,-166.43 845.85,-154.89\"/>\n",
       "<polygon fill=\"black\" stroke=\"black\" points=\"847.82,-157.79 853.44,-148.81 843.45,-152.33 847.82,-157.79\"/>\n",
       "</g>\n",
       "<!-- 331 -->\n",
       "<g id=\"node20\" class=\"node\">\n",
       "<title>331</title>\n",
       "<path fill=\"#c0c0c0\" stroke=\"black\" d=\"M747.25,-36C747.25,-36 717.25,-36 717.25,-36 711.25,-36 705.25,-30 705.25,-24 705.25,-24 705.25,-12 705.25,-12 705.25,-6 711.25,0 717.25,0 717.25,0 747.25,0 747.25,0 753.25,0 759.25,-6 759.25,-12 759.25,-12 759.25,-24 759.25,-24 759.25,-30 753.25,-36 747.25,-36\"/>\n",
       "<text text-anchor=\"middle\" x=\"732.25\" y=\"-12.2\" font-family=\"Helvetica,sans-Serif\" font-size=\"14.00\">(...)</text>\n",
       "</g>\n",
       "<!-- 330&#45;&gt;331 -->\n",
       "<g id=\"edge19\" class=\"edge\">\n",
       "<title>330&#45;&gt;331</title>\n",
       "<path fill=\"none\" stroke=\"black\" d=\"M742.41,-71.76C740.84,-63.62 739.23,-55.24 737.76,-47.61\"/>\n",
       "<polygon fill=\"black\" stroke=\"black\" points=\"741.21,-47.05 735.89,-37.89 734.34,-48.37 741.21,-47.05\"/>\n",
       "</g>\n",
       "<!-- 336 -->\n",
       "<g id=\"node21\" class=\"node\">\n",
       "<title>336</title>\n",
       "<path fill=\"#c0c0c0\" stroke=\"black\" d=\"M819.25,-36C819.25,-36 789.25,-36 789.25,-36 783.25,-36 777.25,-30 777.25,-24 777.25,-24 777.25,-12 777.25,-12 777.25,-6 783.25,0 789.25,0 789.25,0 819.25,0 819.25,0 825.25,0 831.25,-6 831.25,-12 831.25,-12 831.25,-24 831.25,-24 831.25,-30 825.25,-36 819.25,-36\"/>\n",
       "<text text-anchor=\"middle\" x=\"804.25\" y=\"-12.2\" font-family=\"Helvetica,sans-Serif\" font-size=\"14.00\">(...)</text>\n",
       "</g>\n",
       "<!-- 330&#45;&gt;336 -->\n",
       "<g id=\"edge20\" class=\"edge\">\n",
       "<title>330&#45;&gt;336</title>\n",
       "<path fill=\"none\" stroke=\"black\" d=\"M773.78,-71.76C778.76,-63.14 783.9,-54.24 788.51,-46.26\"/>\n",
       "<polygon fill=\"black\" stroke=\"black\" points=\"791.47,-48.13 793.44,-37.72 785.41,-44.62 791.47,-48.13\"/>\n",
       "</g>\n",
       "</g>\n",
       "</svg>\n"
      ],
      "text/plain": [
       "<graphviz.sources.Source at 0x17922cda0>"
      ]
     },
     "execution_count": 118,
     "metadata": {},
     "output_type": "execute_result"
    }
   ],
   "source": [
    "dot_data = tree.export_graphviz(dt_clf, out_file=None, \n",
    "                                feature_names=X.columns.tolist(), \n",
    "                                class_names=y.unique().astype(str),  \n",
    "                                filled=True, rounded=True,  \n",
    "                                special_characters=True,\n",
    "                                max_depth=3)  \n",
    "graph = graphviz.Source(dot_data)  \n",
    "graph\n"
   ]
  },
  {
   "cell_type": "markdown",
   "metadata": {},
   "source": [
    "The following code trains a Random Forest classifier."
   ]
  },
  {
   "cell_type": "code",
   "execution_count": 24,
   "metadata": {},
   "outputs": [
    {
     "data": {
      "text/html": [
       "<div>\n",
       "<style scoped>\n",
       "    .dataframe tbody tr th:only-of-type {\n",
       "        vertical-align: middle;\n",
       "    }\n",
       "\n",
       "    .dataframe tbody tr th {\n",
       "        vertical-align: top;\n",
       "    }\n",
       "\n",
       "    .dataframe thead th {\n",
       "        text-align: right;\n",
       "    }\n",
       "</style>\n",
       "<table border=\"1\" class=\"dataframe\">\n",
       "  <thead>\n",
       "    <tr style=\"text-align: right;\">\n",
       "      <th></th>\n",
       "      <th>ability</th>\n",
       "      <th>able</th>\n",
       "      <th>absolutely</th>\n",
       "      <th>aca</th>\n",
       "      <th>aca marketplace</th>\n",
       "      <th>aca plan</th>\n",
       "      <th>aca pliant</th>\n",
       "      <th>aca subsidy</th>\n",
       "      <th>accept</th>\n",
       "      <th>accept medicaid</th>\n",
       "      <th>...</th>\n",
       "      <th>year ago</th>\n",
       "      <th>year old</th>\n",
       "      <th>year work</th>\n",
       "      <th>year year</th>\n",
       "      <th>yearly</th>\n",
       "      <th>yep</th>\n",
       "      <th>yes</th>\n",
       "      <th>york</th>\n",
       "      <th>young</th>\n",
       "      <th>zero</th>\n",
       "    </tr>\n",
       "  </thead>\n",
       "  <tbody>\n",
       "    <tr>\n",
       "      <th>0</th>\n",
       "      <td>0.0</td>\n",
       "      <td>0.0</td>\n",
       "      <td>0.01</td>\n",
       "      <td>0.0</td>\n",
       "      <td>0.0</td>\n",
       "      <td>0.0</td>\n",
       "      <td>0.0</td>\n",
       "      <td>0.0</td>\n",
       "      <td>0.0</td>\n",
       "      <td>0.0</td>\n",
       "      <td>...</td>\n",
       "      <td>0.0</td>\n",
       "      <td>0.0</td>\n",
       "      <td>0.0</td>\n",
       "      <td>0.0</td>\n",
       "      <td>0.0</td>\n",
       "      <td>0.0</td>\n",
       "      <td>0.0</td>\n",
       "      <td>0.0</td>\n",
       "      <td>0.0</td>\n",
       "      <td>0.01</td>\n",
       "    </tr>\n",
       "  </tbody>\n",
       "</table>\n",
       "<p>1 rows × 1574 columns</p>\n",
       "</div>"
      ],
      "text/plain": [
       "   ability  able  absolutely  aca  aca marketplace  aca plan  aca pliant  \\\n",
       "0      0.0   0.0        0.01  0.0              0.0       0.0         0.0   \n",
       "\n",
       "   aca subsidy  accept  accept medicaid  ...  year ago  year old  year work  \\\n",
       "0          0.0     0.0              0.0  ...       0.0       0.0        0.0   \n",
       "\n",
       "   year year  yearly  yep  yes  york  young  zero  \n",
       "0        0.0     0.0  0.0  0.0   0.0    0.0  0.01  \n",
       "\n",
       "[1 rows x 1574 columns]"
      ]
     },
     "execution_count": 24,
     "metadata": {},
     "output_type": "execute_result"
    }
   ],
   "source": [
    "dt_feature_importance = pd.DataFrame([np.round(dt_clf.feature_importances_,2)], columns=X.columns.tolist())\n",
    "dt_feature_importance"
   ]
  },
  {
   "cell_type": "code",
   "execution_count": 25,
   "metadata": {},
   "outputs": [
    {
     "data": {
      "text/html": [
       "<div>\n",
       "<style scoped>\n",
       "    .dataframe tbody tr th:only-of-type {\n",
       "        vertical-align: middle;\n",
       "    }\n",
       "\n",
       "    .dataframe tbody tr th {\n",
       "        vertical-align: top;\n",
       "    }\n",
       "\n",
       "    .dataframe thead th {\n",
       "        text-align: right;\n",
       "    }\n",
       "</style>\n",
       "<table border=\"1\" class=\"dataframe\">\n",
       "  <thead>\n",
       "    <tr style=\"text-align: right;\">\n",
       "      <th></th>\n",
       "      <th>0</th>\n",
       "    </tr>\n",
       "  </thead>\n",
       "  <tbody>\n",
       "    <tr>\n",
       "      <th>thank</th>\n",
       "      <td>0.13</td>\n",
       "    </tr>\n",
       "    <tr>\n",
       "      <th>insurance</th>\n",
       "      <td>0.09</td>\n",
       "    </tr>\n",
       "    <tr>\n",
       "      <th>plan</th>\n",
       "      <td>0.05</td>\n",
       "    </tr>\n",
       "    <tr>\n",
       "      <th>medicaid</th>\n",
       "      <td>0.03</td>\n",
       "    </tr>\n",
       "    <tr>\n",
       "      <th>pay</th>\n",
       "      <td>0.02</td>\n",
       "    </tr>\n",
       "    <tr>\n",
       "      <th>...</th>\n",
       "      <td>...</td>\n",
       "    </tr>\n",
       "    <tr>\n",
       "      <th>gain</th>\n",
       "      <td>0.00</td>\n",
       "    </tr>\n",
       "    <tr>\n",
       "      <th>fvniop question</th>\n",
       "      <td>0.00</td>\n",
       "    </tr>\n",
       "    <tr>\n",
       "      <th>fvniop</th>\n",
       "      <td>0.00</td>\n",
       "    </tr>\n",
       "    <tr>\n",
       "      <th>future</th>\n",
       "      <td>0.00</td>\n",
       "    </tr>\n",
       "    <tr>\n",
       "      <th>majority</th>\n",
       "      <td>0.00</td>\n",
       "    </tr>\n",
       "  </tbody>\n",
       "</table>\n",
       "<p>1574 rows × 1 columns</p>\n",
       "</div>"
      ],
      "text/plain": [
       "                    0\n",
       "thank            0.13\n",
       "insurance        0.09\n",
       "plan             0.05\n",
       "medicaid         0.03\n",
       "pay              0.02\n",
       "...               ...\n",
       "gain             0.00\n",
       "fvniop question  0.00\n",
       "fvniop           0.00\n",
       "future           0.00\n",
       "majority         0.00\n",
       "\n",
       "[1574 rows x 1 columns]"
      ]
     },
     "execution_count": 25,
     "metadata": {},
     "output_type": "execute_result"
    }
   ],
   "source": [
    "features = dt_feature_importance.T.sort_values(by=0, ascending=False)\n",
    "features"
   ]
  },
  {
   "cell_type": "code",
   "execution_count": 26,
   "metadata": {},
   "outputs": [
    {
     "data": {
      "text/html": [
       "<div>\n",
       "<style scoped>\n",
       "    .dataframe tbody tr th:only-of-type {\n",
       "        vertical-align: middle;\n",
       "    }\n",
       "\n",
       "    .dataframe tbody tr th {\n",
       "        vertical-align: top;\n",
       "    }\n",
       "\n",
       "    .dataframe thead th {\n",
       "        text-align: right;\n",
       "    }\n",
       "</style>\n",
       "<table border=\"1\" class=\"dataframe\">\n",
       "  <thead>\n",
       "    <tr style=\"text-align: right;\">\n",
       "      <th></th>\n",
       "      <th>0</th>\n",
       "    </tr>\n",
       "  </thead>\n",
       "  <tbody>\n",
       "    <tr>\n",
       "      <th>thank</th>\n",
       "      <td>0.13</td>\n",
       "    </tr>\n",
       "    <tr>\n",
       "      <th>insurance</th>\n",
       "      <td>0.09</td>\n",
       "    </tr>\n",
       "    <tr>\n",
       "      <th>plan</th>\n",
       "      <td>0.05</td>\n",
       "    </tr>\n",
       "    <tr>\n",
       "      <th>medicaid</th>\n",
       "      <td>0.03</td>\n",
       "    </tr>\n",
       "    <tr>\n",
       "      <th>pay</th>\n",
       "      <td>0.02</td>\n",
       "    </tr>\n",
       "    <tr>\n",
       "      <th>money</th>\n",
       "      <td>0.02</td>\n",
       "    </tr>\n",
       "    <tr>\n",
       "      <th>cover</th>\n",
       "      <td>0.02</td>\n",
       "    </tr>\n",
       "    <tr>\n",
       "      <th>deny</th>\n",
       "      <td>0.02</td>\n",
       "    </tr>\n",
       "    <tr>\n",
       "      <th>treatment</th>\n",
       "      <td>0.02</td>\n",
       "    </tr>\n",
       "    <tr>\n",
       "      <th>medical</th>\n",
       "      <td>0.02</td>\n",
       "    </tr>\n",
       "    <tr>\n",
       "      <th>thanks</th>\n",
       "      <td>0.01</td>\n",
       "    </tr>\n",
       "    <tr>\n",
       "      <th>billing</th>\n",
       "      <td>0.01</td>\n",
       "    </tr>\n",
       "    <tr>\n",
       "      <th>fuck</th>\n",
       "      <td>0.01</td>\n",
       "    </tr>\n",
       "    <tr>\n",
       "      <th>benefit</th>\n",
       "      <td>0.01</td>\n",
       "    </tr>\n",
       "    <tr>\n",
       "      <th>zero</th>\n",
       "      <td>0.01</td>\n",
       "    </tr>\n",
       "    <tr>\n",
       "      <th>friend</th>\n",
       "      <td>0.01</td>\n",
       "    </tr>\n",
       "    <tr>\n",
       "      <th>tax</th>\n",
       "      <td>0.01</td>\n",
       "    </tr>\n",
       "    <tr>\n",
       "      <th>network</th>\n",
       "      <td>0.01</td>\n",
       "    </tr>\n",
       "    <tr>\n",
       "      <th>try</th>\n",
       "      <td>0.01</td>\n",
       "    </tr>\n",
       "    <tr>\n",
       "      <th>kaiser</th>\n",
       "      <td>0.01</td>\n",
       "    </tr>\n",
       "  </tbody>\n",
       "</table>\n",
       "</div>"
      ],
      "text/plain": [
       "              0\n",
       "thank      0.13\n",
       "insurance  0.09\n",
       "plan       0.05\n",
       "medicaid   0.03\n",
       "pay        0.02\n",
       "money      0.02\n",
       "cover      0.02\n",
       "deny       0.02\n",
       "treatment  0.02\n",
       "medical    0.02\n",
       "thanks     0.01\n",
       "billing    0.01\n",
       "fuck       0.01\n",
       "benefit    0.01\n",
       "zero       0.01\n",
       "friend     0.01\n",
       "tax        0.01\n",
       "network    0.01\n",
       "try        0.01\n",
       "kaiser     0.01"
      ]
     },
     "execution_count": 26,
     "metadata": {},
     "output_type": "execute_result"
    }
   ],
   "source": [
    "one_gram_features = features[~features.index.str.contains(\" \")].head(20)\n",
    "one_gram_features\n"
   ]
  },
  {
   "cell_type": "code",
   "execution_count": 28,
   "metadata": {},
   "outputs": [
    {
     "data": {
      "text/html": [
       "<div>\n",
       "<style scoped>\n",
       "    .dataframe tbody tr th:only-of-type {\n",
       "        vertical-align: middle;\n",
       "    }\n",
       "\n",
       "    .dataframe tbody tr th {\n",
       "        vertical-align: top;\n",
       "    }\n",
       "\n",
       "    .dataframe thead th {\n",
       "        text-align: right;\n",
       "    }\n",
       "</style>\n",
       "<table border=\"1\" class=\"dataframe\">\n",
       "  <thead>\n",
       "    <tr style=\"text-align: right;\">\n",
       "      <th></th>\n",
       "      <th>0</th>\n",
       "    </tr>\n",
       "  </thead>\n",
       "  <tbody>\n",
       "    <tr>\n",
       "      <th>healthcare gov</th>\n",
       "      <td>0.01</td>\n",
       "    </tr>\n",
       "    <tr>\n",
       "      <th>healthcare cost</th>\n",
       "      <td>0.01</td>\n",
       "    </tr>\n",
       "    <tr>\n",
       "      <th>plaint state</th>\n",
       "      <td>0.00</td>\n",
       "    </tr>\n",
       "    <tr>\n",
       "      <th>pjpg auto</th>\n",
       "      <td>0.00</td>\n",
       "    </tr>\n",
       "    <tr>\n",
       "      <th>plan aca</th>\n",
       "      <td>0.00</td>\n",
       "    </tr>\n",
       "    <tr>\n",
       "      <th>plan choose</th>\n",
       "      <td>0.00</td>\n",
       "    </tr>\n",
       "    <tr>\n",
       "      <th>plan available</th>\n",
       "      <td>0.00</td>\n",
       "    </tr>\n",
       "    <tr>\n",
       "      <th>plan option</th>\n",
       "      <td>0.00</td>\n",
       "    </tr>\n",
       "    <tr>\n",
       "      <th>plan offer</th>\n",
       "      <td>0.00</td>\n",
       "    </tr>\n",
       "    <tr>\n",
       "      <th>plan need</th>\n",
       "      <td>0.00</td>\n",
       "    </tr>\n",
       "    <tr>\n",
       "      <th>plan month</th>\n",
       "      <td>0.00</td>\n",
       "    </tr>\n",
       "    <tr>\n",
       "      <th>plan marketplace</th>\n",
       "      <td>0.00</td>\n",
       "    </tr>\n",
       "    <tr>\n",
       "      <th>plan low</th>\n",
       "      <td>0.00</td>\n",
       "    </tr>\n",
       "    <tr>\n",
       "      <th>plan like</th>\n",
       "      <td>0.00</td>\n",
       "    </tr>\n",
       "    <tr>\n",
       "      <th>plan insurance</th>\n",
       "      <td>0.00</td>\n",
       "    </tr>\n",
       "    <tr>\n",
       "      <th>plan high</th>\n",
       "      <td>0.00</td>\n",
       "    </tr>\n",
       "    <tr>\n",
       "      <th>plan healthcare</th>\n",
       "      <td>0.00</td>\n",
       "    </tr>\n",
       "    <tr>\n",
       "      <th>plan employer</th>\n",
       "      <td>0.00</td>\n",
       "    </tr>\n",
       "    <tr>\n",
       "      <th>plan different</th>\n",
       "      <td>0.00</td>\n",
       "    </tr>\n",
       "    <tr>\n",
       "      <th>plan deductible</th>\n",
       "      <td>0.00</td>\n",
       "    </tr>\n",
       "  </tbody>\n",
       "</table>\n",
       "</div>"
      ],
      "text/plain": [
       "                     0\n",
       "healthcare gov    0.01\n",
       "healthcare cost   0.01\n",
       "plaint state      0.00\n",
       "pjpg auto         0.00\n",
       "plan aca          0.00\n",
       "plan choose       0.00\n",
       "plan available    0.00\n",
       "plan option       0.00\n",
       "plan offer        0.00\n",
       "plan need         0.00\n",
       "plan month        0.00\n",
       "plan marketplace  0.00\n",
       "plan low          0.00\n",
       "plan like         0.00\n",
       "plan insurance    0.00\n",
       "plan high         0.00\n",
       "plan healthcare   0.00\n",
       "plan employer     0.00\n",
       "plan different    0.00\n",
       "plan deductible   0.00"
      ]
     },
     "execution_count": 28,
     "metadata": {},
     "output_type": "execute_result"
    }
   ],
   "source": [
    "two_gram_features = features[features.index.str.contains(\" \")].head(20)\n",
    "two_gram_features"
   ]
  },
  {
   "cell_type": "markdown",
   "metadata": {},
   "source": [
    "## Fine-tuning For Decision Tree\n",
    "In this section, we will use sklearn's grid search methods to fine tune the model."
   ]
  },
  {
   "cell_type": "code",
   "execution_count": 29,
   "metadata": {},
   "outputs": [],
   "source": [
    "from sklearn.model_selection import GridSearchCV"
   ]
  },
  {
   "cell_type": "code",
   "execution_count": 30,
   "metadata": {},
   "outputs": [
    {
     "name": "stdout",
     "output_type": "stream",
     "text": [
      "Best parameters: {'max_depth': 40, 'min_samples_leaf': 4, 'min_samples_split': 40}\n",
      "Best cross-validation score: 0.6228571428571429\n"
     ]
    }
   ],
   "source": [
    "param_grid = {\n",
    "    'max_depth': [n for n in range(10, 1000, 10)],\n",
    "    'min_samples_split': [2, 5, 10, 20, 30, 40],\n",
    "    'min_samples_leaf': [1, 2, 4]\n",
    "}\n",
    "\n",
    "dt_clf = DecisionTreeClassifier(random_state=42, criterion='entropy')\n",
    "grid_search = GridSearchCV(dt_clf, param_grid, scoring='accuracy', n_jobs=-1)\n",
    "grid_search.fit(X_train, y_train)\n",
    "\n",
    "print(\"Best parameters:\", grid_search.best_params_)\n",
    "print(\"Best cross-validation score:\", grid_search.best_score_)"
   ]
  },
  {
   "cell_type": "code",
   "execution_count": 31,
   "metadata": {},
   "outputs": [
    {
     "data": {
      "text/plain": [
       "0.623"
      ]
     },
     "execution_count": 31,
     "metadata": {},
     "output_type": "execute_result"
    }
   ],
   "source": [
    "dt_clf_tuned = DecisionTreeClassifier(max_depth=40, min_samples_leaf=4, min_samples_split=40, criterion='entropy', random_state=42)\n",
    "np.round(dt_clf_tuned.fit(X_train, y_train).score(X_test, y_test), 3)"
   ]
  },
  {
   "cell_type": "markdown",
   "metadata": {},
   "source": [
    "# Random Forest with Feature Selection"
   ]
  },
  {
   "cell_type": "code",
   "execution_count": 32,
   "metadata": {},
   "outputs": [],
   "source": [
    "from sklearn.ensemble import RandomForestClassifier"
   ]
  },
  {
   "cell_type": "code",
   "execution_count": 33,
   "metadata": {},
   "outputs": [],
   "source": [
    "dt_rf = RandomForestClassifier(n_estimators=1000, criterion='entropy', random_state=42)\n",
    "dt_rf = dt_rf.fit(X_train, y_train)"
   ]
  },
  {
   "cell_type": "code",
   "execution_count": 34,
   "metadata": {},
   "outputs": [
    {
     "data": {
      "text/plain": [
       "0.64"
      ]
     },
     "execution_count": 34,
     "metadata": {},
     "output_type": "execute_result"
    }
   ],
   "source": [
    "np.round(dt_rf.score(X_test, y_test), 3)"
   ]
  },
  {
   "cell_type": "markdown",
   "metadata": {},
   "source": [
    "## Feature Selection Using Select Best"
   ]
  },
  {
   "cell_type": "markdown",
   "metadata": {},
   "source": [
    "Our data will be high dimensional and adjusting parameters with grid search would be very difficult computationally. Therefore, it would be more ideal to reduce dimensions first. A common approach in this case would be using SelectKBest, which gives the feature names for selection (for better interpretability)"
   ]
  },
  {
   "cell_type": "code",
   "execution_count": 35,
   "metadata": {},
   "outputs": [],
   "source": [
    "from sklearn.feature_selection import SelectKBest, chi2\n"
   ]
  },
  {
   "cell_type": "code",
   "execution_count": 36,
   "metadata": {},
   "outputs": [],
   "source": [
    "selector = SelectKBest(chi2, k=750)\n",
    "X_train_selected = selector.fit_transform(X_train, y_train)\n",
    "X_test_selected = selector.transform(X_test)"
   ]
  },
  {
   "cell_type": "code",
   "execution_count": 37,
   "metadata": {},
   "outputs": [
    {
     "data": {
      "text/plain": [
       "((700, 750), (300, 750))"
      ]
     },
     "execution_count": 37,
     "metadata": {},
     "output_type": "execute_result"
    }
   ],
   "source": [
    "X_train_selected.shape, X_test_selected.shape"
   ]
  },
  {
   "cell_type": "code",
   "execution_count": 38,
   "metadata": {},
   "outputs": [
    {
     "name": "stdout",
     "output_type": "stream",
     "text": [
      "Selected features: ['absolutely' 'aca' 'aca plan' 'aca pliant' 'accept' 'accident' 'act'\n",
      " 'action' 'action perform' 'actual' 'actually' 'additional' 'advantage'\n",
      " 'advocate' 'aetna' 'affect' 'afford' 'affordability' 'affordable' 'age'\n",
      " 'age state' 'agent' 'ago' 'agree' 'ah' 'allow' 'amaze' 'ambetter'\n",
      " 'ambulance' 'america' 'annual' 'answer' 'answer depend' 'answer question'\n",
      " 'answer reddit' 'anthem' 'appeal' 'application' 'appointment'\n",
      " 'appreciate' 'approval' 'ask' 'automatically' 'automatically contact'\n",
      " 'available' 'available insurance' 'avoid' 'avoid post' 'away' 'bad'\n",
      " 'balance' 'ban' 'ban report' 'bankrupt' 'barely' 'base ine' 'basically'\n",
      " 'bc' 'bcbs' 'bee' 'benefit' 'benefit available' 'best' 'bet' 'big'\n",
      " 'billing' 'billion' 'birth' 'bit' 'blame' 'blood' 'body' 'bone' 'born'\n",
      " 'bot' 'bot action' 'brand' 'breast' 'broken' 'broker' 'buck' 'cal'\n",
      " 'california' 'cancel' 'cancer' 'cap' 'care' 'care act' 'care need'\n",
      " 'carefully' 'carefully avoid' 'case' 'cash' 'cash price' 'catastrophic'\n",
      " 'cause' 'certain' 'chance' 'change' 'charge' 'cheap' 'cheaper' 'choice'\n",
      " 'choice edit' 'choose' 'choose plan' 'choose read' 'cigna' 'circumstance'\n",
      " 'claim' 'claim deny' 'client' 'close' 'cobra' 'cod' 'coinsurance'\n",
      " 'college' 'concern' 'condition' 'confuse' 'congress' 'contact'\n",
      " 'contact moderator' 'contract' 'contribute' 'contribution' 'copay'\n",
      " 'copays' 'correctly' 'cost' 'cost insurance' 'count' 'country' 'court'\n",
      " 'cover' 'cover plan' 'coverage' 'covered' 'covid' 'crazy' 'create'\n",
      " 'credit' 'curious' 'current' 'currently' 'cut' 'damn' 'daughter' 'day'\n",
      " 'deal' 'death' 'debt' 'dec' 'decade' 'december' 'decent' 'decide'\n",
      " 'decision' 'deductible' 'deductible insurance' 'deductible plan' 'delay'\n",
      " 'delete' 'denial' 'denies' 'dental' 'deny' 'deny claim' 'depend'\n",
      " 'depend insurance' 'design' 'despite' 'diagnostic' 'die' 'different'\n",
      " 'differently' 'discount' 'discus' 'disease' 'doctor' 'doctor network'\n",
      " 'doctor office' 'doctor visit' 'document' 'dr' 'drive' 'earlier' 'easily'\n",
      " 'eat' 'edit' 'edit post' 'eligible' 'emergency' 'emergency near'\n",
      " 'employer' 'employer pay' 'employer sponsor' 'end year' 'enroll'\n",
      " 'enrollment' 'eob' 'eob explanation' 'eob say' 'eob state' 'er'\n",
      " 'especially' 'estimate' 'estimate gross' 'event' 'eventually' 'exclusion'\n",
      " 'exist' 'exist condition' 'expansion' 'expect' 'expense' 'expensive'\n",
      " 'experience' 'explanation' 'explanation benefit' 'extremely' 'facility'\n",
      " 'fact' 'factor' 'fairly' 'family' 'family member' 'fee'\n",
      " 'fhealthinsurance' 'fhealthinsurance receive' 'fight' 'figure' 'file'\n",
      " 'filing' 'final' 'finally' 'fine' 'follow' 'follow carefully' 'force'\n",
      " 'formulary' 'forward' 'fr' 'fr fhealthinsurance' 'fraud' 'free' 'friend'\n",
      " 'frustrate' 'fsa' 'fuck' 'future' 'fvniop' 'fvniop question' 'gap'\n",
      " 'generous' 'gon' 'gon na' 'good' 'got' 'gov' 'great' 'gross' 'gross pre'\n",
      " 'ground' 'ground permanent' 'group' 'guess' 'guy' 'half' 'hand' 'handle'\n",
      " 'handy' 'handy answer' 'happy' 'hate' 'hdhp' 'health' 'health insurance'\n",
      " 'health plan' 'healthcare' 'healthcare gov' 'healthinsurance'\n",
      " 'healthinsurance jya' 'healthinsurance ments' 'healthinsurance question'\n",
      " 'healthy' 'heart' 'help' 'help munity' 'helpful' 'hi' 'high'\n",
      " 'high deductible' 'hire' 'hit' 'home' 'honestly' 'hospital'\n",
      " 'hospital questions' 'hour' 'hr' 'hsa' 'hsa plan' 'human' 'hurt' 'id'\n",
      " 'idea' 'imagine' 'immediately' 'important' 'include' 'include age'\n",
      " 'increase' 'individual' 'ine' 'ine help' 'ine year' 'inpatient' 'insane'\n",
      " 'insight' 'insurance' 'insurance carrier' 'insurance cost'\n",
      " 'insurance cover' 'insurance coverage' 'insurance employer'\n",
      " 'insurance eob' 'insurance marketplace' 'insurance network'\n",
      " 'insurance paid' 'insurance panies' 'insurance pany' 'insurance website'\n",
      " 'insurer' 'internet' 'january' 'jump' 'jya' 'jya rpdy' 'kaiser' 'kill'\n",
      " 'kind' 'kind bot' 'knew' 'know' 'know reddit' 'knowledge' 'lab' 'labor'\n",
      " 'learn' 'leg' 'let' 'let know' 'license' 'lie' 'life event' 'lifetime'\n",
      " 'like' 'likely' 'line' 'link' 'list' 'lol' 'look' 'lot' 'love' 'low'\n",
      " 'low deductible' 'make sure' 'make year' 'man' 'manage' 'management'\n",
      " 'market' 'market place' 'marketplace' 'marketplace aca'\n",
      " 'marketplace plan' 'max' 'maximum' 'maybe' 'meant' 'med' 'medi'\n",
      " 'medi cal' 'medicaid' 'medical' 'medical debt' 'medical emergency'\n",
      " 'medical insurance' 'medical record' 'medically' 'medically necessary'\n",
      " 'medicare' 'medicine' 'medium' 'meeting' 'mental' 'mental health'\n",
      " 'mention' 'ments' 'ments fvniop' 'mess' 'message' 'message pose' 'met'\n",
      " 'middle' 'million' 'mind' 'minimum' 'minor' 'minute' 'mistake' 'mo' 'mod'\n",
      " 'mod team' 'moderator' 'moderator subreddit' 'mon' 'mon question'\n",
      " 'monday' 'money' 'month' 'month premium' 'monthly' 'monthly premium'\n",
      " 'morning' 'mother' 'mri' 'munity' 'munity serve' 'na' 'near'\n",
      " 'near hospital' 'need' 'need know' 'need make' 'negotiate'\n",
      " 'negotiate rate' 'network' 'nightmare' 'non' 'normal' 'nurse' 'ny' 'odd'\n",
      " 'office' 'office visit' 'official' 'oop' 'oop max' 'oopm' 'open'\n",
      " 'open enrollment' 'option' 'ot' 'outside' 'owe' 'pa' 'paid' 'panies'\n",
      " 'pany' 'par' 'party' 'past' 'past year' 'patient' 'pay' 'pay claim'\n",
      " 'pay insurance' 'pay month' 'payment' 'people' 'people want' 'percentage'\n",
      " 'perform' 'perform automatically' 'period' 'permanent' 'permanent ban'\n",
      " 'personal' 'personally' 'pharmacy' 'physical' 'physical therapy'\n",
      " 'physician' 'plain' 'plan' 'plan aca' 'plan choose' 'plan deductible'\n",
      " 'plan healthcare' 'plan high' 'plan insurance' 'play' 'pliant' 'plicate'\n",
      " 'plus' 'pm' 'pm kind' 'pocket' 'pocket cost' 'pocket max'\n",
      " 'pocket maximum' 'policy' 'poor' 'portion' 'pose' 'pose fr'\n",
      " 'pose healthinsurance' 'possible' 'post' 'post include' 'post reddit'\n",
      " 'post removal' 'ppo' 'ppo plan' 'pre' 'pre exist' 'pre tax' 'preexist'\n",
      " 'prefer' 'premium' 'premium pay' 'prescription' 'pressure' 'pretty'\n",
      " 'preventative' 'price' 'primary' 'primary care' 'probably' 'problem'\n",
      " 'procedure' 'process' 'product' 'profit' 'provide' 'provider'\n",
      " 'provider insurance' 'provider network' 'pt' 'public' 'qualify'\n",
      " 'qualify life' 'question' 'question answer' 'question concern'\n",
      " 'question understand' 'questions' 'questions plan' 'quickly' 'rarely'\n",
      " 'rate' 'ray' 'rd' 'reach' 'read' 'read follow' 'read post' 'really'\n",
      " 'reason' 'receive' 'receive solicitation' 'recent' 'recognize' 'reddit'\n",
      " 'reddit healthinsurance' 'reddit message' 'referral' 'refuse' 'regular'\n",
      " 'rehab' 'reimburse' 'remain' 'reminder' 'reminder solicitation' 'removal'\n",
      " 'removal medical' 'render' 'rep' 'repeat' 'report' 'report solicitation'\n",
      " 'request' 'requirement' 'research' 'response' 'responsibility' 'rest'\n",
      " 'return' 'review' 'rich' 'ridiculous' 'rpdy' 'rpdy reminder' 'run' 'safe'\n",
      " 'save' 'saw' 'say' 'scam' 'scan' 'scenario' 'schedule' 'screen' 'screw'\n",
      " 'search' 'second' 'secondary' 'section' 'seek' 'self pay' 'sell' 'sent'\n",
      " 'serve' 'serve eob' 'service' 'set' 'shit' 'shock' 'shop' 'sick' 'sign'\n",
      " 'similar' 'simple' 'sit' 'site' 'situation' 'slightly' 'solicitation'\n",
      " 'solicitation mod' 'solicitation pm' 'solicitation spamming' 'solution'\n",
      " 'soon' 'sorry' 'source' 'spamming' 'spamming ground' 'specialist'\n",
      " 'sponsor' 'st' 'standard' 'start' 'state' 'state department'\n",
      " 'state estimate' 'state insurance' 'state mon' 'step' 'store' 'story'\n",
      " 'stuff' 'stupid' 'submission' 'submit' 'subreddit' 'subreddit message'\n",
      " 'subsidize' 'subsidy' 'suck' 'super' 'supplement' 'support' 'suppose'\n",
      " 'sure' 'surgery' 'surprise' 'surprised' 'switch' 'talk' 'tax'\n",
      " 'tax credit' 'tax ine' 'team' 'team let' 'tend' 'term' 'terminate'\n",
      " 'termination' 'test' 'thank' 'thank submission' 'thanks' 'therapy'\n",
      " 'thing' 'thing like' 'thought' 'thread' 'tier' 'told' 'ton' 'topic'\n",
      " 'total' 'transfer' 'treat' 'treatment' 'true' 'truly' 'trump' 'trust'\n",
      " 'try' 'turn' 'uhc' 'ultrasound' 'umr' 'understand' 'understand choice'\n",
      " 'unfortunately' 'union' 'united' 'united healthcare' 'universal'\n",
      " 'university' 'unlikely' 'upfront' 'ups' 'urgent' 'urgent care' 'use'\n",
      " 'vision' 'visit' 'vote' 'wage' 'wait period' 'walk' 'want' 'want make'\n",
      " 'want pay' 'way' 'website' 'website handy' 'weekly' 'weird' 'wife' 'wish'\n",
      " 'woman' 'wonder' 'work insurance' 'worried' 'worry' 'worth' 'wow' 'yeah'\n",
      " 'year' 'year ago' 'yearly' 'young' 'zero']\n"
     ]
    }
   ],
   "source": [
    "# get the selected feature names\n",
    "selected_indices = selector.get_support(indices=True)\n",
    "selected_feature_names = np.array(X.columns)[selected_indices]\n",
    "print(\"Selected features:\", selected_feature_names)"
   ]
  },
  {
   "cell_type": "code",
   "execution_count": 39,
   "metadata": {},
   "outputs": [
    {
     "data": {
      "text/plain": [
       "0.627"
      ]
     },
     "execution_count": 39,
     "metadata": {},
     "output_type": "execute_result"
    }
   ],
   "source": [
    "# train a new decision tree classifier with the selected features\n",
    "dt_reduced = DecisionTreeClassifier(random_state=42)\n",
    "dt_reduced = dt_reduced.fit(X_train_selected, y_train)\n",
    "np.round(dt_reduced.score(X_test_selected, y_test), 3)"
   ]
  },
  {
   "cell_type": "code",
   "execution_count": 40,
   "metadata": {},
   "outputs": [],
   "source": [
    "# train a new random forest classifier with the selected features\n",
    "rf_reduced = RandomForestClassifier(n_estimators=1000, criterion='entropy', random_state=42)"
   ]
  },
  {
   "cell_type": "code",
   "execution_count": 41,
   "metadata": {},
   "outputs": [],
   "source": [
    "rf_reduced = rf_reduced.fit(X_train_selected, y_train)"
   ]
  },
  {
   "cell_type": "code",
   "execution_count": 42,
   "metadata": {},
   "outputs": [
    {
     "data": {
      "text/plain": [
       "0.64"
      ]
     },
     "execution_count": 42,
     "metadata": {},
     "output_type": "execute_result"
    }
   ],
   "source": [
    "np.round(rf_reduced.score(X_test_selected, y_test), 3)\n",
    "# The accuracy is roughly the same as before"
   ]
  },
  {
   "cell_type": "markdown",
   "metadata": {},
   "source": [
    "Fine-tune the model."
   ]
  },
  {
   "cell_type": "code",
   "execution_count": 239,
   "metadata": {},
   "outputs": [
    {
     "name": "stdout",
     "output_type": "stream",
     "text": [
      "Best parameters: {'max_depth': 40, 'max_features': 'log2', 'min_samples_leaf': 1, 'min_samples_split': 2, 'n_estimators': 2000}\n",
      "Best cross-validation score: 0.7028571428571428\n"
     ]
    }
   ],
   "source": [
    "# perform a grid search to find the best parameters\n",
    "param_grid = {\n",
    "    'n_estimators': [100, 200, 300, 400, 500, 1000, 2000, 3000, 4000],\n",
    "    'max_features': [\"sqrt\", \"log2\", None],\n",
    "    'max_depth': [10, 20, 30, 40, None],\n",
    "    'min_samples_split': [2, 5, 10],\n",
    "    'min_samples_leaf': [1, 2, 4, 6]\n",
    "}\n",
    "\n",
    "dt_clf = RandomForestClassifier(random_state=42, criterion='entropy')\n",
    "grid_search = GridSearchCV(dt_clf, param_grid, scoring='accuracy', n_jobs=-1)\n",
    "grid_search.fit(X_train_selected, y_train)\n",
    "\n",
    "print(\"Best parameters:\", grid_search.best_params_)\n",
    "print(\"Best cross-validation score:\", grid_search.best_score_)"
   ]
  },
  {
   "cell_type": "markdown",
   "metadata": {},
   "source": [
    "Our best parameters are given by {'max_depth': 40, 'max_features': 'log2', 'min_samples_leaf': 1, 'min_samples_split': 2, 'n_estimators': 2000}, with a cross-validation score of 0.703."
   ]
  },
  {
   "cell_type": "code",
   "execution_count": 96,
   "metadata": {},
   "outputs": [
    {
     "data": {
      "text/plain": [
       "0.64"
      ]
     },
     "execution_count": 96,
     "metadata": {},
     "output_type": "execute_result"
    }
   ],
   "source": [
    "dt_final = RandomForestClassifier(max_depth=40, max_features=\"log2\", criterion=\"entropy\", n_estimators=2000, min_samples_leaf=1, min_samples_split=2, random_state=42)\n",
    "dt_final = dt_final.fit(X_train_selected, y_train)\n",
    "np.round(dt_final.score(X_test_selected, y_test), 3)"
   ]
  },
  {
   "cell_type": "markdown",
   "metadata": {},
   "source": [
    "## Feature Selection Using Results from Decision Tree"
   ]
  },
  {
   "cell_type": "code",
   "execution_count": 142,
   "metadata": {},
   "outputs": [
    {
     "data": {
      "text/plain": [
       "['thank',\n",
       " 'insurance',\n",
       " 'plan',\n",
       " 'medicaid',\n",
       " 'pay',\n",
       " 'money',\n",
       " 'cover',\n",
       " 'deny',\n",
       " 'treatment',\n",
       " 'medical',\n",
       " 'network',\n",
       " 'uhc',\n",
       " 'coverage',\n",
       " 'healthcare',\n",
       " 'time',\n",
       " 'doctor',\n",
       " 'look',\n",
       " 'try',\n",
       " 'personally',\n",
       " 'patient',\n",
       " 'zero',\n",
       " 'subsidy',\n",
       " 'surgery',\n",
       " 'year',\n",
       " 'tax',\n",
       " 'healthcare gov',\n",
       " 'option',\n",
       " 'make',\n",
       " 'basically',\n",
       " 'kaiser',\n",
       " 'regular',\n",
       " 'problem',\n",
       " 'want',\n",
       " 'expansion',\n",
       " 'health',\n",
       " 'org',\n",
       " 'benefit',\n",
       " 'lot',\n",
       " 'billing',\n",
       " 'gov',\n",
       " 'absolutely',\n",
       " 'correctly',\n",
       " 'work',\n",
       " 'reason',\n",
       " 'specialty',\n",
       " 'copay',\n",
       " 'half',\n",
       " 'paid',\n",
       " 'person',\n",
       " 'healthcare cost',\n",
       " 'thanks',\n",
       " 'fuck',\n",
       " 'office',\n",
       " 'friend',\n",
       " 'card',\n",
       " 'hit',\n",
       " 'bad',\n",
       " 'start',\n",
       " 'face',\n",
       " 'insurance cover',\n",
       " 'maybe',\n",
       " 'care',\n",
       " 'contribute',\n",
       " 'center',\n",
       " 'handle',\n",
       " 'op',\n",
       " 'reminder',\n",
       " 'department',\n",
       " 'deductible',\n",
       " 'hdhp',\n",
       " 'charge',\n",
       " 'blame',\n",
       " 'term',\n",
       " 'scenario',\n",
       " 'ultrasound',\n",
       " 'update',\n",
       " 'file',\n",
       " 'ago',\n",
       " 'max',\n",
       " 'source',\n",
       " 'provider',\n",
       " 'marketplace plan',\n",
       " 'helpful',\n",
       " 'let',\n",
       " 'hr',\n",
       " 'negotiate',\n",
       " 'bone',\n",
       " 'fee',\n",
       " 'yep',\n",
       " 'unless',\n",
       " 'website',\n",
       " 'prior',\n",
       " 'checked',\n",
       " 'brand',\n",
       " 'credit',\n",
       " 'wife',\n",
       " 'process',\n",
       " 'change',\n",
       " 'policy',\n",
       " 'marketplace']"
      ]
     },
     "execution_count": 142,
     "metadata": {},
     "output_type": "execute_result"
    }
   ],
   "source": [
    "top_100_features = dt_feature_importance.T.sort_values(by=0, ascending=False).head(100)\n",
    "selected_feature_names = top_100_features.index.tolist()\n",
    "selected_feature_names\n"
   ]
  },
  {
   "cell_type": "code",
   "execution_count": 143,
   "metadata": {},
   "outputs": [
    {
     "data": {
      "text/plain": [
       "((700, 100), (300, 100))"
      ]
     },
     "execution_count": 143,
     "metadata": {},
     "output_type": "execute_result"
    }
   ],
   "source": [
    "# Filter X_train and X_test to include only these top features\n",
    "X_train_selected = X_train[selected_feature_names]\n",
    "X_test_selected = X_test[selected_feature_names]\n",
    "X_train_selected.shape, X_test_selected.shape"
   ]
  },
  {
   "cell_type": "code",
   "execution_count": 144,
   "metadata": {},
   "outputs": [
    {
     "data": {
      "text/plain": [
       "0.657"
      ]
     },
     "execution_count": 144,
     "metadata": {},
     "output_type": "execute_result"
    }
   ],
   "source": [
    "# Train a new RandomForestClassifier using only the top 100 features\n",
    "rf_clf_top100 = RandomForestClassifier(n_estimators=1000, random_state=42)\n",
    "\n",
    "# Fit the RandomForestClassifier using the filtered training set\n",
    "rf_clf_top100.fit(X_train_selected, y_train)\n",
    "np.round(rf_clf_top100.score(X_test_selected, y_test), 3)"
   ]
  },
  {
   "cell_type": "code",
   "execution_count": 328,
   "metadata": {},
   "outputs": [
    {
     "name": "stdout",
     "output_type": "stream",
     "text": [
      "Best parameters: {'max_depth': 40, 'max_features': 'log2', 'min_samples_leaf': 1, 'min_samples_split': 5, 'n_estimators': 500}\n",
      "Best cross-validation score: 0.7028571428571428\n"
     ]
    }
   ],
   "source": [
    "# perform a grid search to find the best parameters\n",
    "param_grid = {\n",
    "    'n_estimators': [100, 200, 300, 400, 500, 1000, 2000, 3000, 4000, 5000],\n",
    "    'max_features': [\"sqrt\", \"log2\"],\n",
    "    'max_depth': [10, 20, 30, 40, None],\n",
    "    'min_samples_split': [2, 5, 10],\n",
    "    'min_samples_leaf': [1, 2, 4, 6]\n",
    "}\n",
    "\n",
    "dt_clf = RandomForestClassifier(random_state=42, criterion='entropy')\n",
    "grid_search = GridSearchCV(dt_clf, param_grid, scoring='accuracy', n_jobs=-1)\n",
    "grid_search.fit(X_train_selected, y_train)\n",
    "\n",
    "print(\"Best parameters:\", grid_search.best_params_)\n",
    "print(\"Best cross-validation score:\", grid_search.best_score_)"
   ]
  },
  {
   "cell_type": "markdown",
   "metadata": {},
   "source": [
    "Best parameters are given by:\n",
    "- max_depth: 40\n",
    "- max_features: log2\n",
    "- min_samples_leaf: 1\n",
    "- min_sample_split: 5\n",
    "- n_estimators: 500"
   ]
  },
  {
   "cell_type": "code",
   "execution_count": 145,
   "metadata": {},
   "outputs": [
    {
     "data": {
      "text/plain": [
       "0.653"
      ]
     },
     "execution_count": 145,
     "metadata": {},
     "output_type": "execute_result"
    }
   ],
   "source": [
    "rf_gs = RandomForestClassifier(max_depth=40, max_features=\"log2\", criterion=\"entropy\", n_estimators=500, min_samples_leaf=1, min_samples_split=5, random_state=42)\n",
    "rf_gs = rf_gs.fit(X_train_selected, y_train)\n",
    "np.round(rf_gs.score(X_test_selected, y_test), 3)"
   ]
  },
  {
   "cell_type": "code",
   "execution_count": 146,
   "metadata": {},
   "outputs": [
    {
     "data": {
      "text/html": [
       "<style>#sk-container-id-2 {\n",
       "  /* Definition of color scheme common for light and dark mode */\n",
       "  --sklearn-color-text: #000;\n",
       "  --sklearn-color-text-muted: #666;\n",
       "  --sklearn-color-line: gray;\n",
       "  /* Definition of color scheme for unfitted estimators */\n",
       "  --sklearn-color-unfitted-level-0: #fff5e6;\n",
       "  --sklearn-color-unfitted-level-1: #f6e4d2;\n",
       "  --sklearn-color-unfitted-level-2: #ffe0b3;\n",
       "  --sklearn-color-unfitted-level-3: chocolate;\n",
       "  /* Definition of color scheme for fitted estimators */\n",
       "  --sklearn-color-fitted-level-0: #f0f8ff;\n",
       "  --sklearn-color-fitted-level-1: #d4ebff;\n",
       "  --sklearn-color-fitted-level-2: #b3dbfd;\n",
       "  --sklearn-color-fitted-level-3: cornflowerblue;\n",
       "\n",
       "  /* Specific color for light theme */\n",
       "  --sklearn-color-text-on-default-background: var(--sg-text-color, var(--theme-code-foreground, var(--jp-content-font-color1, black)));\n",
       "  --sklearn-color-background: var(--sg-background-color, var(--theme-background, var(--jp-layout-color0, white)));\n",
       "  --sklearn-color-border-box: var(--sg-text-color, var(--theme-code-foreground, var(--jp-content-font-color1, black)));\n",
       "  --sklearn-color-icon: #696969;\n",
       "\n",
       "  @media (prefers-color-scheme: dark) {\n",
       "    /* Redefinition of color scheme for dark theme */\n",
       "    --sklearn-color-text-on-default-background: var(--sg-text-color, var(--theme-code-foreground, var(--jp-content-font-color1, white)));\n",
       "    --sklearn-color-background: var(--sg-background-color, var(--theme-background, var(--jp-layout-color0, #111)));\n",
       "    --sklearn-color-border-box: var(--sg-text-color, var(--theme-code-foreground, var(--jp-content-font-color1, white)));\n",
       "    --sklearn-color-icon: #878787;\n",
       "  }\n",
       "}\n",
       "\n",
       "#sk-container-id-2 {\n",
       "  color: var(--sklearn-color-text);\n",
       "}\n",
       "\n",
       "#sk-container-id-2 pre {\n",
       "  padding: 0;\n",
       "}\n",
       "\n",
       "#sk-container-id-2 input.sk-hidden--visually {\n",
       "  border: 0;\n",
       "  clip: rect(1px 1px 1px 1px);\n",
       "  clip: rect(1px, 1px, 1px, 1px);\n",
       "  height: 1px;\n",
       "  margin: -1px;\n",
       "  overflow: hidden;\n",
       "  padding: 0;\n",
       "  position: absolute;\n",
       "  width: 1px;\n",
       "}\n",
       "\n",
       "#sk-container-id-2 div.sk-dashed-wrapped {\n",
       "  border: 1px dashed var(--sklearn-color-line);\n",
       "  margin: 0 0.4em 0.5em 0.4em;\n",
       "  box-sizing: border-box;\n",
       "  padding-bottom: 0.4em;\n",
       "  background-color: var(--sklearn-color-background);\n",
       "}\n",
       "\n",
       "#sk-container-id-2 div.sk-container {\n",
       "  /* jupyter's `normalize.less` sets `[hidden] { display: none; }`\n",
       "     but bootstrap.min.css set `[hidden] { display: none !important; }`\n",
       "     so we also need the `!important` here to be able to override the\n",
       "     default hidden behavior on the sphinx rendered scikit-learn.org.\n",
       "     See: https://github.com/scikit-learn/scikit-learn/issues/21755 */\n",
       "  display: inline-block !important;\n",
       "  position: relative;\n",
       "}\n",
       "\n",
       "#sk-container-id-2 div.sk-text-repr-fallback {\n",
       "  display: none;\n",
       "}\n",
       "\n",
       "div.sk-parallel-item,\n",
       "div.sk-serial,\n",
       "div.sk-item {\n",
       "  /* draw centered vertical line to link estimators */\n",
       "  background-image: linear-gradient(var(--sklearn-color-text-on-default-background), var(--sklearn-color-text-on-default-background));\n",
       "  background-size: 2px 100%;\n",
       "  background-repeat: no-repeat;\n",
       "  background-position: center center;\n",
       "}\n",
       "\n",
       "/* Parallel-specific style estimator block */\n",
       "\n",
       "#sk-container-id-2 div.sk-parallel-item::after {\n",
       "  content: \"\";\n",
       "  width: 100%;\n",
       "  border-bottom: 2px solid var(--sklearn-color-text-on-default-background);\n",
       "  flex-grow: 1;\n",
       "}\n",
       "\n",
       "#sk-container-id-2 div.sk-parallel {\n",
       "  display: flex;\n",
       "  align-items: stretch;\n",
       "  justify-content: center;\n",
       "  background-color: var(--sklearn-color-background);\n",
       "  position: relative;\n",
       "}\n",
       "\n",
       "#sk-container-id-2 div.sk-parallel-item {\n",
       "  display: flex;\n",
       "  flex-direction: column;\n",
       "}\n",
       "\n",
       "#sk-container-id-2 div.sk-parallel-item:first-child::after {\n",
       "  align-self: flex-end;\n",
       "  width: 50%;\n",
       "}\n",
       "\n",
       "#sk-container-id-2 div.sk-parallel-item:last-child::after {\n",
       "  align-self: flex-start;\n",
       "  width: 50%;\n",
       "}\n",
       "\n",
       "#sk-container-id-2 div.sk-parallel-item:only-child::after {\n",
       "  width: 0;\n",
       "}\n",
       "\n",
       "/* Serial-specific style estimator block */\n",
       "\n",
       "#sk-container-id-2 div.sk-serial {\n",
       "  display: flex;\n",
       "  flex-direction: column;\n",
       "  align-items: center;\n",
       "  background-color: var(--sklearn-color-background);\n",
       "  padding-right: 1em;\n",
       "  padding-left: 1em;\n",
       "}\n",
       "\n",
       "\n",
       "/* Toggleable style: style used for estimator/Pipeline/ColumnTransformer box that is\n",
       "clickable and can be expanded/collapsed.\n",
       "- Pipeline and ColumnTransformer use this feature and define the default style\n",
       "- Estimators will overwrite some part of the style using the `sk-estimator` class\n",
       "*/\n",
       "\n",
       "/* Pipeline and ColumnTransformer style (default) */\n",
       "\n",
       "#sk-container-id-2 div.sk-toggleable {\n",
       "  /* Default theme specific background. It is overwritten whether we have a\n",
       "  specific estimator or a Pipeline/ColumnTransformer */\n",
       "  background-color: var(--sklearn-color-background);\n",
       "}\n",
       "\n",
       "/* Toggleable label */\n",
       "#sk-container-id-2 label.sk-toggleable__label {\n",
       "  cursor: pointer;\n",
       "  display: flex;\n",
       "  width: 100%;\n",
       "  margin-bottom: 0;\n",
       "  padding: 0.5em;\n",
       "  box-sizing: border-box;\n",
       "  text-align: center;\n",
       "  align-items: start;\n",
       "  justify-content: space-between;\n",
       "  gap: 0.5em;\n",
       "}\n",
       "\n",
       "#sk-container-id-2 label.sk-toggleable__label .caption {\n",
       "  font-size: 0.6rem;\n",
       "  font-weight: lighter;\n",
       "  color: var(--sklearn-color-text-muted);\n",
       "}\n",
       "\n",
       "#sk-container-id-2 label.sk-toggleable__label-arrow:before {\n",
       "  /* Arrow on the left of the label */\n",
       "  content: \"▸\";\n",
       "  float: left;\n",
       "  margin-right: 0.25em;\n",
       "  color: var(--sklearn-color-icon);\n",
       "}\n",
       "\n",
       "#sk-container-id-2 label.sk-toggleable__label-arrow:hover:before {\n",
       "  color: var(--sklearn-color-text);\n",
       "}\n",
       "\n",
       "/* Toggleable content - dropdown */\n",
       "\n",
       "#sk-container-id-2 div.sk-toggleable__content {\n",
       "  max-height: 0;\n",
       "  max-width: 0;\n",
       "  overflow: hidden;\n",
       "  text-align: left;\n",
       "  /* unfitted */\n",
       "  background-color: var(--sklearn-color-unfitted-level-0);\n",
       "}\n",
       "\n",
       "#sk-container-id-2 div.sk-toggleable__content.fitted {\n",
       "  /* fitted */\n",
       "  background-color: var(--sklearn-color-fitted-level-0);\n",
       "}\n",
       "\n",
       "#sk-container-id-2 div.sk-toggleable__content pre {\n",
       "  margin: 0.2em;\n",
       "  border-radius: 0.25em;\n",
       "  color: var(--sklearn-color-text);\n",
       "  /* unfitted */\n",
       "  background-color: var(--sklearn-color-unfitted-level-0);\n",
       "}\n",
       "\n",
       "#sk-container-id-2 div.sk-toggleable__content.fitted pre {\n",
       "  /* unfitted */\n",
       "  background-color: var(--sklearn-color-fitted-level-0);\n",
       "}\n",
       "\n",
       "#sk-container-id-2 input.sk-toggleable__control:checked~div.sk-toggleable__content {\n",
       "  /* Expand drop-down */\n",
       "  max-height: 200px;\n",
       "  max-width: 100%;\n",
       "  overflow: auto;\n",
       "}\n",
       "\n",
       "#sk-container-id-2 input.sk-toggleable__control:checked~label.sk-toggleable__label-arrow:before {\n",
       "  content: \"▾\";\n",
       "}\n",
       "\n",
       "/* Pipeline/ColumnTransformer-specific style */\n",
       "\n",
       "#sk-container-id-2 div.sk-label input.sk-toggleable__control:checked~label.sk-toggleable__label {\n",
       "  color: var(--sklearn-color-text);\n",
       "  background-color: var(--sklearn-color-unfitted-level-2);\n",
       "}\n",
       "\n",
       "#sk-container-id-2 div.sk-label.fitted input.sk-toggleable__control:checked~label.sk-toggleable__label {\n",
       "  background-color: var(--sklearn-color-fitted-level-2);\n",
       "}\n",
       "\n",
       "/* Estimator-specific style */\n",
       "\n",
       "/* Colorize estimator box */\n",
       "#sk-container-id-2 div.sk-estimator input.sk-toggleable__control:checked~label.sk-toggleable__label {\n",
       "  /* unfitted */\n",
       "  background-color: var(--sklearn-color-unfitted-level-2);\n",
       "}\n",
       "\n",
       "#sk-container-id-2 div.sk-estimator.fitted input.sk-toggleable__control:checked~label.sk-toggleable__label {\n",
       "  /* fitted */\n",
       "  background-color: var(--sklearn-color-fitted-level-2);\n",
       "}\n",
       "\n",
       "#sk-container-id-2 div.sk-label label.sk-toggleable__label,\n",
       "#sk-container-id-2 div.sk-label label {\n",
       "  /* The background is the default theme color */\n",
       "  color: var(--sklearn-color-text-on-default-background);\n",
       "}\n",
       "\n",
       "/* On hover, darken the color of the background */\n",
       "#sk-container-id-2 div.sk-label:hover label.sk-toggleable__label {\n",
       "  color: var(--sklearn-color-text);\n",
       "  background-color: var(--sklearn-color-unfitted-level-2);\n",
       "}\n",
       "\n",
       "/* Label box, darken color on hover, fitted */\n",
       "#sk-container-id-2 div.sk-label.fitted:hover label.sk-toggleable__label.fitted {\n",
       "  color: var(--sklearn-color-text);\n",
       "  background-color: var(--sklearn-color-fitted-level-2);\n",
       "}\n",
       "\n",
       "/* Estimator label */\n",
       "\n",
       "#sk-container-id-2 div.sk-label label {\n",
       "  font-family: monospace;\n",
       "  font-weight: bold;\n",
       "  display: inline-block;\n",
       "  line-height: 1.2em;\n",
       "}\n",
       "\n",
       "#sk-container-id-2 div.sk-label-container {\n",
       "  text-align: center;\n",
       "}\n",
       "\n",
       "/* Estimator-specific */\n",
       "#sk-container-id-2 div.sk-estimator {\n",
       "  font-family: monospace;\n",
       "  border: 1px dotted var(--sklearn-color-border-box);\n",
       "  border-radius: 0.25em;\n",
       "  box-sizing: border-box;\n",
       "  margin-bottom: 0.5em;\n",
       "  /* unfitted */\n",
       "  background-color: var(--sklearn-color-unfitted-level-0);\n",
       "}\n",
       "\n",
       "#sk-container-id-2 div.sk-estimator.fitted {\n",
       "  /* fitted */\n",
       "  background-color: var(--sklearn-color-fitted-level-0);\n",
       "}\n",
       "\n",
       "/* on hover */\n",
       "#sk-container-id-2 div.sk-estimator:hover {\n",
       "  /* unfitted */\n",
       "  background-color: var(--sklearn-color-unfitted-level-2);\n",
       "}\n",
       "\n",
       "#sk-container-id-2 div.sk-estimator.fitted:hover {\n",
       "  /* fitted */\n",
       "  background-color: var(--sklearn-color-fitted-level-2);\n",
       "}\n",
       "\n",
       "/* Specification for estimator info (e.g. \"i\" and \"?\") */\n",
       "\n",
       "/* Common style for \"i\" and \"?\" */\n",
       "\n",
       ".sk-estimator-doc-link,\n",
       "a:link.sk-estimator-doc-link,\n",
       "a:visited.sk-estimator-doc-link {\n",
       "  float: right;\n",
       "  font-size: smaller;\n",
       "  line-height: 1em;\n",
       "  font-family: monospace;\n",
       "  background-color: var(--sklearn-color-background);\n",
       "  border-radius: 1em;\n",
       "  height: 1em;\n",
       "  width: 1em;\n",
       "  text-decoration: none !important;\n",
       "  margin-left: 0.5em;\n",
       "  text-align: center;\n",
       "  /* unfitted */\n",
       "  border: var(--sklearn-color-unfitted-level-1) 1pt solid;\n",
       "  color: var(--sklearn-color-unfitted-level-1);\n",
       "}\n",
       "\n",
       ".sk-estimator-doc-link.fitted,\n",
       "a:link.sk-estimator-doc-link.fitted,\n",
       "a:visited.sk-estimator-doc-link.fitted {\n",
       "  /* fitted */\n",
       "  border: var(--sklearn-color-fitted-level-1) 1pt solid;\n",
       "  color: var(--sklearn-color-fitted-level-1);\n",
       "}\n",
       "\n",
       "/* On hover */\n",
       "div.sk-estimator:hover .sk-estimator-doc-link:hover,\n",
       ".sk-estimator-doc-link:hover,\n",
       "div.sk-label-container:hover .sk-estimator-doc-link:hover,\n",
       ".sk-estimator-doc-link:hover {\n",
       "  /* unfitted */\n",
       "  background-color: var(--sklearn-color-unfitted-level-3);\n",
       "  color: var(--sklearn-color-background);\n",
       "  text-decoration: none;\n",
       "}\n",
       "\n",
       "div.sk-estimator.fitted:hover .sk-estimator-doc-link.fitted:hover,\n",
       ".sk-estimator-doc-link.fitted:hover,\n",
       "div.sk-label-container:hover .sk-estimator-doc-link.fitted:hover,\n",
       ".sk-estimator-doc-link.fitted:hover {\n",
       "  /* fitted */\n",
       "  background-color: var(--sklearn-color-fitted-level-3);\n",
       "  color: var(--sklearn-color-background);\n",
       "  text-decoration: none;\n",
       "}\n",
       "\n",
       "/* Span, style for the box shown on hovering the info icon */\n",
       ".sk-estimator-doc-link span {\n",
       "  display: none;\n",
       "  z-index: 9999;\n",
       "  position: relative;\n",
       "  font-weight: normal;\n",
       "  right: .2ex;\n",
       "  padding: .5ex;\n",
       "  margin: .5ex;\n",
       "  width: min-content;\n",
       "  min-width: 20ex;\n",
       "  max-width: 50ex;\n",
       "  color: var(--sklearn-color-text);\n",
       "  box-shadow: 2pt 2pt 4pt #999;\n",
       "  /* unfitted */\n",
       "  background: var(--sklearn-color-unfitted-level-0);\n",
       "  border: .5pt solid var(--sklearn-color-unfitted-level-3);\n",
       "}\n",
       "\n",
       ".sk-estimator-doc-link.fitted span {\n",
       "  /* fitted */\n",
       "  background: var(--sklearn-color-fitted-level-0);\n",
       "  border: var(--sklearn-color-fitted-level-3);\n",
       "}\n",
       "\n",
       ".sk-estimator-doc-link:hover span {\n",
       "  display: block;\n",
       "}\n",
       "\n",
       "/* \"?\"-specific style due to the `<a>` HTML tag */\n",
       "\n",
       "#sk-container-id-2 a.estimator_doc_link {\n",
       "  float: right;\n",
       "  font-size: 1rem;\n",
       "  line-height: 1em;\n",
       "  font-family: monospace;\n",
       "  background-color: var(--sklearn-color-background);\n",
       "  border-radius: 1rem;\n",
       "  height: 1rem;\n",
       "  width: 1rem;\n",
       "  text-decoration: none;\n",
       "  /* unfitted */\n",
       "  color: var(--sklearn-color-unfitted-level-1);\n",
       "  border: var(--sklearn-color-unfitted-level-1) 1pt solid;\n",
       "}\n",
       "\n",
       "#sk-container-id-2 a.estimator_doc_link.fitted {\n",
       "  /* fitted */\n",
       "  border: var(--sklearn-color-fitted-level-1) 1pt solid;\n",
       "  color: var(--sklearn-color-fitted-level-1);\n",
       "}\n",
       "\n",
       "/* On hover */\n",
       "#sk-container-id-2 a.estimator_doc_link:hover {\n",
       "  /* unfitted */\n",
       "  background-color: var(--sklearn-color-unfitted-level-3);\n",
       "  color: var(--sklearn-color-background);\n",
       "  text-decoration: none;\n",
       "}\n",
       "\n",
       "#sk-container-id-2 a.estimator_doc_link.fitted:hover {\n",
       "  /* fitted */\n",
       "  background-color: var(--sklearn-color-fitted-level-3);\n",
       "}\n",
       "</style><div id=\"sk-container-id-2\" class=\"sk-top-container\"><div class=\"sk-text-repr-fallback\"><pre>RandomForestClassifier(n_estimators=1000, random_state=42)</pre><b>In a Jupyter environment, please rerun this cell to show the HTML representation or trust the notebook. <br />On GitHub, the HTML representation is unable to render, please try loading this page with nbviewer.org.</b></div><div class=\"sk-container\" hidden><div class=\"sk-item\"><div class=\"sk-estimator fitted sk-toggleable\"><input class=\"sk-toggleable__control sk-hidden--visually\" id=\"sk-estimator-id-2\" type=\"checkbox\" checked><label for=\"sk-estimator-id-2\" class=\"sk-toggleable__label fitted sk-toggleable__label-arrow\"><div><div>RandomForestClassifier</div></div><div><a class=\"sk-estimator-doc-link fitted\" rel=\"noreferrer\" target=\"_blank\" href=\"https://scikit-learn.org/1.6/modules/generated/sklearn.ensemble.RandomForestClassifier.html\">?<span>Documentation for RandomForestClassifier</span></a><span class=\"sk-estimator-doc-link fitted\">i<span>Fitted</span></span></div></label><div class=\"sk-toggleable__content fitted\"><pre>RandomForestClassifier(n_estimators=1000, random_state=42)</pre></div> </div></div></div></div>"
      ],
      "text/plain": [
       "RandomForestClassifier(n_estimators=1000, random_state=42)"
      ]
     },
     "execution_count": 146,
     "metadata": {},
     "output_type": "execute_result"
    }
   ],
   "source": [
    "rf_final = rf_clf_top100\n",
    "rf_final"
   ]
  },
  {
   "cell_type": "code",
   "execution_count": 147,
   "metadata": {},
   "outputs": [
    {
     "data": {
      "text/html": [
       "<div>\n",
       "<style scoped>\n",
       "    .dataframe tbody tr th:only-of-type {\n",
       "        vertical-align: middle;\n",
       "    }\n",
       "\n",
       "    .dataframe tbody tr th {\n",
       "        vertical-align: top;\n",
       "    }\n",
       "\n",
       "    .dataframe thead th {\n",
       "        text-align: right;\n",
       "    }\n",
       "</style>\n",
       "<table border=\"1\" class=\"dataframe\">\n",
       "  <thead>\n",
       "    <tr style=\"text-align: right;\">\n",
       "      <th></th>\n",
       "      <th>thank</th>\n",
       "      <th>insurance</th>\n",
       "      <th>plan</th>\n",
       "      <th>medicaid</th>\n",
       "      <th>pay</th>\n",
       "      <th>money</th>\n",
       "      <th>cover</th>\n",
       "      <th>deny</th>\n",
       "      <th>treatment</th>\n",
       "      <th>medical</th>\n",
       "      <th>...</th>\n",
       "      <th>website</th>\n",
       "      <th>prior</th>\n",
       "      <th>checked</th>\n",
       "      <th>brand</th>\n",
       "      <th>credit</th>\n",
       "      <th>wife</th>\n",
       "      <th>process</th>\n",
       "      <th>change</th>\n",
       "      <th>policy</th>\n",
       "      <th>marketplace</th>\n",
       "    </tr>\n",
       "  </thead>\n",
       "  <tbody>\n",
       "    <tr>\n",
       "      <th>0</th>\n",
       "      <td>0.048</td>\n",
       "      <td>0.081</td>\n",
       "      <td>0.053</td>\n",
       "      <td>0.023</td>\n",
       "      <td>0.035</td>\n",
       "      <td>0.014</td>\n",
       "      <td>0.02</td>\n",
       "      <td>0.019</td>\n",
       "      <td>0.008</td>\n",
       "      <td>0.019</td>\n",
       "      <td>...</td>\n",
       "      <td>0.018</td>\n",
       "      <td>0.001</td>\n",
       "      <td>0.003</td>\n",
       "      <td>0.003</td>\n",
       "      <td>0.003</td>\n",
       "      <td>0.008</td>\n",
       "      <td>0.005</td>\n",
       "      <td>0.01</td>\n",
       "      <td>0.004</td>\n",
       "      <td>0.009</td>\n",
       "    </tr>\n",
       "  </tbody>\n",
       "</table>\n",
       "<p>1 rows × 100 columns</p>\n",
       "</div>"
      ],
      "text/plain": [
       "   thank  insurance   plan  medicaid    pay  money  cover   deny  treatment  \\\n",
       "0  0.048      0.081  0.053     0.023  0.035  0.014   0.02  0.019      0.008   \n",
       "\n",
       "   medical  ...  website  prior  checked  brand  credit   wife  process  \\\n",
       "0    0.019  ...    0.018  0.001    0.003  0.003   0.003  0.008    0.005   \n",
       "\n",
       "   change  policy  marketplace  \n",
       "0    0.01   0.004        0.009  \n",
       "\n",
       "[1 rows x 100 columns]"
      ]
     },
     "execution_count": 147,
     "metadata": {},
     "output_type": "execute_result"
    }
   ],
   "source": [
    "rf_feature_importance = pd.DataFrame([np.round(rf_final.feature_importances_, 3)], columns=X_train_selected.columns.tolist())\n",
    "rf_feature_importance"
   ]
  },
  {
   "cell_type": "code",
   "execution_count": 148,
   "metadata": {},
   "outputs": [
    {
     "data": {
      "text/html": [
       "<div>\n",
       "<style scoped>\n",
       "    .dataframe tbody tr th:only-of-type {\n",
       "        vertical-align: middle;\n",
       "    }\n",
       "\n",
       "    .dataframe tbody tr th {\n",
       "        vertical-align: top;\n",
       "    }\n",
       "\n",
       "    .dataframe thead th {\n",
       "        text-align: right;\n",
       "    }\n",
       "</style>\n",
       "<table border=\"1\" class=\"dataframe\">\n",
       "  <thead>\n",
       "    <tr style=\"text-align: right;\">\n",
       "      <th></th>\n",
       "      <th>0</th>\n",
       "    </tr>\n",
       "  </thead>\n",
       "  <tbody>\n",
       "    <tr>\n",
       "      <th>insurance</th>\n",
       "      <td>0.081</td>\n",
       "    </tr>\n",
       "    <tr>\n",
       "      <th>plan</th>\n",
       "      <td>0.053</td>\n",
       "    </tr>\n",
       "    <tr>\n",
       "      <th>thank</th>\n",
       "      <td>0.048</td>\n",
       "    </tr>\n",
       "    <tr>\n",
       "      <th>pay</th>\n",
       "      <td>0.035</td>\n",
       "    </tr>\n",
       "    <tr>\n",
       "      <th>medicaid</th>\n",
       "      <td>0.023</td>\n",
       "    </tr>\n",
       "    <tr>\n",
       "      <th>...</th>\n",
       "      <td>...</td>\n",
       "    </tr>\n",
       "    <tr>\n",
       "      <th>ultrasound</th>\n",
       "      <td>0.001</td>\n",
       "    </tr>\n",
       "    <tr>\n",
       "      <th>prior</th>\n",
       "      <td>0.001</td>\n",
       "    </tr>\n",
       "    <tr>\n",
       "      <th>insurance cover</th>\n",
       "      <td>0.001</td>\n",
       "    </tr>\n",
       "    <tr>\n",
       "      <th>ago</th>\n",
       "      <td>0.001</td>\n",
       "    </tr>\n",
       "    <tr>\n",
       "      <th>healthcare cost</th>\n",
       "      <td>0.000</td>\n",
       "    </tr>\n",
       "  </tbody>\n",
       "</table>\n",
       "<p>100 rows × 1 columns</p>\n",
       "</div>"
      ],
      "text/plain": [
       "                     0\n",
       "insurance        0.081\n",
       "plan             0.053\n",
       "thank            0.048\n",
       "pay              0.035\n",
       "medicaid         0.023\n",
       "...                ...\n",
       "ultrasound       0.001\n",
       "prior            0.001\n",
       "insurance cover  0.001\n",
       "ago              0.001\n",
       "healthcare cost  0.000\n",
       "\n",
       "[100 rows x 1 columns]"
      ]
     },
     "execution_count": 148,
     "metadata": {},
     "output_type": "execute_result"
    }
   ],
   "source": [
    "rf_features = rf_feature_importance.T.sort_values(by=0, ascending=False)\n",
    "rf_features"
   ]
  },
  {
   "cell_type": "code",
   "execution_count": 149,
   "metadata": {},
   "outputs": [
    {
     "data": {
      "text/html": [
       "<div>\n",
       "<style scoped>\n",
       "    .dataframe tbody tr th:only-of-type {\n",
       "        vertical-align: middle;\n",
       "    }\n",
       "\n",
       "    .dataframe tbody tr th {\n",
       "        vertical-align: top;\n",
       "    }\n",
       "\n",
       "    .dataframe thead th {\n",
       "        text-align: right;\n",
       "    }\n",
       "</style>\n",
       "<table border=\"1\" class=\"dataframe\">\n",
       "  <thead>\n",
       "    <tr style=\"text-align: right;\">\n",
       "      <th></th>\n",
       "      <th>0</th>\n",
       "    </tr>\n",
       "  </thead>\n",
       "  <tbody>\n",
       "    <tr>\n",
       "      <th>insurance</th>\n",
       "      <td>0.081</td>\n",
       "    </tr>\n",
       "    <tr>\n",
       "      <th>plan</th>\n",
       "      <td>0.053</td>\n",
       "    </tr>\n",
       "    <tr>\n",
       "      <th>thank</th>\n",
       "      <td>0.048</td>\n",
       "    </tr>\n",
       "    <tr>\n",
       "      <th>pay</th>\n",
       "      <td>0.035</td>\n",
       "    </tr>\n",
       "    <tr>\n",
       "      <th>medicaid</th>\n",
       "      <td>0.023</td>\n",
       "    </tr>\n",
       "    <tr>\n",
       "      <th>reminder</th>\n",
       "      <td>0.023</td>\n",
       "    </tr>\n",
       "    <tr>\n",
       "      <th>coverage</th>\n",
       "      <td>0.022</td>\n",
       "    </tr>\n",
       "    <tr>\n",
       "      <th>cover</th>\n",
       "      <td>0.020</td>\n",
       "    </tr>\n",
       "    <tr>\n",
       "      <th>year</th>\n",
       "      <td>0.020</td>\n",
       "    </tr>\n",
       "    <tr>\n",
       "      <th>deny</th>\n",
       "      <td>0.019</td>\n",
       "    </tr>\n",
       "    <tr>\n",
       "      <th>medical</th>\n",
       "      <td>0.019</td>\n",
       "    </tr>\n",
       "    <tr>\n",
       "      <th>care</th>\n",
       "      <td>0.018</td>\n",
       "    </tr>\n",
       "    <tr>\n",
       "      <th>network</th>\n",
       "      <td>0.018</td>\n",
       "    </tr>\n",
       "    <tr>\n",
       "      <th>website</th>\n",
       "      <td>0.018</td>\n",
       "    </tr>\n",
       "    <tr>\n",
       "      <th>deductible</th>\n",
       "      <td>0.018</td>\n",
       "    </tr>\n",
       "    <tr>\n",
       "      <th>let</th>\n",
       "      <td>0.017</td>\n",
       "    </tr>\n",
       "    <tr>\n",
       "      <th>benefit</th>\n",
       "      <td>0.017</td>\n",
       "    </tr>\n",
       "    <tr>\n",
       "      <th>time</th>\n",
       "      <td>0.017</td>\n",
       "    </tr>\n",
       "    <tr>\n",
       "      <th>doctor</th>\n",
       "      <td>0.016</td>\n",
       "    </tr>\n",
       "    <tr>\n",
       "      <th>tax</th>\n",
       "      <td>0.016</td>\n",
       "    </tr>\n",
       "  </tbody>\n",
       "</table>\n",
       "</div>"
      ],
      "text/plain": [
       "                0\n",
       "insurance   0.081\n",
       "plan        0.053\n",
       "thank       0.048\n",
       "pay         0.035\n",
       "medicaid    0.023\n",
       "reminder    0.023\n",
       "coverage    0.022\n",
       "cover       0.020\n",
       "year        0.020\n",
       "deny        0.019\n",
       "medical     0.019\n",
       "care        0.018\n",
       "network     0.018\n",
       "website     0.018\n",
       "deductible  0.018\n",
       "let         0.017\n",
       "benefit     0.017\n",
       "time        0.017\n",
       "doctor      0.016\n",
       "tax         0.016"
      ]
     },
     "execution_count": 149,
     "metadata": {},
     "output_type": "execute_result"
    }
   ],
   "source": [
    "one_gram_features = rf_features[~rf_features.index.str.contains(\" \")].head(20)\n",
    "one_gram_features"
   ]
  },
  {
   "cell_type": "code",
   "execution_count": 150,
   "metadata": {},
   "outputs": [
    {
     "data": {
      "text/html": [
       "<div>\n",
       "<style scoped>\n",
       "    .dataframe tbody tr th:only-of-type {\n",
       "        vertical-align: middle;\n",
       "    }\n",
       "\n",
       "    .dataframe tbody tr th {\n",
       "        vertical-align: top;\n",
       "    }\n",
       "\n",
       "    .dataframe thead th {\n",
       "        text-align: right;\n",
       "    }\n",
       "</style>\n",
       "<table border=\"1\" class=\"dataframe\">\n",
       "  <thead>\n",
       "    <tr style=\"text-align: right;\">\n",
       "      <th></th>\n",
       "      <th>0</th>\n",
       "    </tr>\n",
       "  </thead>\n",
       "  <tbody>\n",
       "    <tr>\n",
       "      <th>healthcare gov</th>\n",
       "      <td>0.004</td>\n",
       "    </tr>\n",
       "    <tr>\n",
       "      <th>marketplace plan</th>\n",
       "      <td>0.001</td>\n",
       "    </tr>\n",
       "    <tr>\n",
       "      <th>insurance cover</th>\n",
       "      <td>0.001</td>\n",
       "    </tr>\n",
       "    <tr>\n",
       "      <th>healthcare cost</th>\n",
       "      <td>0.000</td>\n",
       "    </tr>\n",
       "  </tbody>\n",
       "</table>\n",
       "</div>"
      ],
      "text/plain": [
       "                      0\n",
       "healthcare gov    0.004\n",
       "marketplace plan  0.001\n",
       "insurance cover   0.001\n",
       "healthcare cost   0.000"
      ]
     },
     "execution_count": 150,
     "metadata": {},
     "output_type": "execute_result"
    }
   ],
   "source": [
    "two_gram_features = rf_features[rf_features.index.str.contains(\" \")].head(20)\n",
    "two_gram_features"
   ]
  },
  {
   "cell_type": "markdown",
   "metadata": {},
   "source": [
    "# Linear Classification"
   ]
  },
  {
   "cell_type": "code",
   "execution_count": 43,
   "metadata": {},
   "outputs": [],
   "source": [
    "from sklearn.linear_model import LogisticRegression\n",
    "from collections import Counter"
   ]
  },
  {
   "cell_type": "code",
   "execution_count": 44,
   "metadata": {},
   "outputs": [
    {
     "data": {
      "text/plain": [
       "((700, 1574), (300, 1574))"
      ]
     },
     "execution_count": 44,
     "metadata": {},
     "output_type": "execute_result"
    }
   ],
   "source": [
    "X_train.shape, X_test.shape"
   ]
  },
  {
   "cell_type": "code",
   "execution_count": 46,
   "metadata": {},
   "outputs": [
    {
     "data": {
      "text/plain": [
       "0.637"
      ]
     },
     "execution_count": 46,
     "metadata": {},
     "output_type": "execute_result"
    }
   ],
   "source": [
    "clf_lr = LogisticRegression(random_state=42, max_iter=1000).fit(X_train, y_train)\n",
    "np.round(clf_lr.score(X_test, y_test), 3)"
   ]
  },
  {
   "cell_type": "code",
   "execution_count": 47,
   "metadata": {},
   "outputs": [
    {
     "name": "stdout",
     "output_type": "stream",
     "text": [
      "Best parameters: {'C': 9.432563118655343, 'max_iter': 1000}\n",
      "Best cross-validation score: 0.6657142857142857\n"
     ]
    }
   ],
   "source": [
    "from sklearn.model_selection import RandomizedSearchCV\n",
    "from scipy.stats import uniform\n",
    "\n",
    "parameter_distributions = {\n",
    "    'C': uniform(0.001, 10),\n",
    "    'max_iter': [1000, 5000]\n",
    "}\n",
    "\n",
    "random_search = RandomizedSearchCV(\n",
    "    LogisticRegression(random_state=42),\n",
    "    param_distributions=parameter_distributions,\n",
    "    n_iter=10,\n",
    "    cv=5,\n",
    "    scoring='accuracy'\n",
    ")\n",
    "\n",
    "random_search.fit(X_train, y_train)\n",
    "\n",
    "print(\"Best parameters:\", random_search.best_params_)\n",
    "print(\"Best cross-validation score:\", random_search.best_score_)"
   ]
  },
  {
   "cell_type": "markdown",
   "metadata": {},
   "source": [
    "Best parameters: {'max_depth': 40, 'max_features': 'log2', 'min_samples_leaf': 1, 'min_samples_split': 5, 'n_estimators': 500}"
   ]
  },
  {
   "cell_type": "code",
   "execution_count": 49,
   "metadata": {},
   "outputs": [
    {
     "data": {
      "text/plain": [
       "0.687"
      ]
     },
     "execution_count": 49,
     "metadata": {},
     "output_type": "execute_result"
    }
   ],
   "source": [
    "clf_lr_tuned = LogisticRegression(**random_search.best_params_, random_state=42)\n",
    "clf_lr_tuned = clf_lr_tuned.fit(X_train, y_train)\n",
    "np.round(clf_lr_tuned.score(X_test, y_test), 3)"
   ]
  },
  {
   "cell_type": "code",
   "execution_count": 78,
   "metadata": {},
   "outputs": [
    {
     "data": {
      "text/plain": [
       "array([-99,  -1,   0,   1])"
      ]
     },
     "execution_count": 78,
     "metadata": {},
     "output_type": "execute_result"
    }
   ],
   "source": [
    "clf_lr_tuned.classes_"
   ]
  },
  {
   "cell_type": "code",
   "execution_count": 79,
   "metadata": {},
   "outputs": [
    {
     "data": {
      "text/plain": [
       "array([[-0.08642551, -0.17445736, -0.06584962, ..., -0.28620303,\n",
       "        -0.23113488, -0.45410045],\n",
       "       [-0.1667396 , -0.02479201,  1.65032939, ..., -0.14663894,\n",
       "         0.36848788, -0.16360878],\n",
       "       [ 0.40802523,  0.28885391, -1.42727633, ...,  0.50150582,\n",
       "        -0.58912497, -1.71486446],\n",
       "       [-0.15486012, -0.08960454, -0.15720344, ..., -0.06866385,\n",
       "         0.45177197,  2.33257369]])"
      ]
     },
     "execution_count": 79,
     "metadata": {},
     "output_type": "execute_result"
    }
   ],
   "source": [
    "clf_lr_tuned.coef_\n"
   ]
  },
  {
   "cell_type": "markdown",
   "metadata": {},
   "source": [
    "## Classification Report"
   ]
  },
  {
   "cell_type": "code",
   "execution_count": 50,
   "metadata": {},
   "outputs": [
    {
     "name": "stdout",
     "output_type": "stream",
     "text": [
      "              precision    recall  f1-score   support\n",
      "\n",
      "         -99       0.76      0.77      0.76        95\n",
      "          -1       0.65      0.37      0.47        65\n",
      "           0       0.65      0.85      0.74       128\n",
      "           1        nan      0.00      0.00        12\n",
      "\n",
      "    accuracy                           0.69       300\n",
      "   macro avg       0.69      0.50      0.49       300\n",
      "weighted avg       0.69      0.69      0.66       300\n",
      "\n"
     ]
    }
   ],
   "source": [
    "from sklearn.metrics import classification_report\n",
    "y_pred = clf_lr_tuned.predict(X_test)\n",
    "print(classification_report(y_test, y_pred, zero_division=np.nan))"
   ]
  },
  {
   "cell_type": "code",
   "execution_count": 51,
   "metadata": {},
   "outputs": [
    {
     "name": "stdout",
     "output_type": "stream",
     "text": [
      "ROC AUC Score: 0.783\n"
     ]
    }
   ],
   "source": [
    "from sklearn.metrics import roc_curve, roc_auc_score\n",
    "y_pred_proba = clf_lr_tuned.predict_proba(X_test)\n",
    "roc_auc = roc_auc_score(y_test, y_pred_proba, multi_class='ovo')\n",
    "print(f'ROC AUC Score: {roc_auc:.3f}')"
   ]
  },
  {
   "cell_type": "code",
   "execution_count": null,
   "metadata": {},
   "outputs": [
    {
     "data": {
      "image/png": "[encoded data removed]",
      "text/plain": [
       "<Figure size 1000x800 with 1 Axes>"
      ]
     },
     "metadata": {},
     "output_type": "display_data"
    }
   ],
   "source": [
    "from sklearn.preprocessing import label_binarize\n",
    "\n",
    "# one-hot\n",
    "classes = clf_lr_tuned.classes_\n",
    "y_test_bin = label_binarize(y_test, classes=classes)\n",
    "\n",
    "# ROC curve\n",
    "from sklearn.metrics import roc_curve\n",
    "\n",
    "plt.figure(figsize=(10, 8))\n",
    "for i in range(len(classes)):\n",
    "    fpr, tpr, _ = roc_curve(y_test_bin[:, i], y_pred_proba[:, i])\n",
    "    plt.plot(fpr, tpr, label=f'Class {classes[i]} (vs rest)')\n",
    "\n",
    "plt.plot([0, 1], [0, 1], 'k--')\n",
    "plt.xlabel('False Positive Rate')\n",
    "plt.ylabel('True Positive Rate')\n",
    "plt.title('ROC Curves (One-vs-Rest)')\n",
    "plt.legend()\n",
    "plt.show()"
   ]
  },
  {
   "cell_type": "markdown",
   "metadata": {},
   "source": [
    "# Labelling"
   ]
  },
  {
   "cell_type": "code",
   "execution_count": 65,
   "metadata": {},
   "outputs": [
    {
     "data": {
      "text/plain": [
       "(6018, 1574)"
      ]
     },
     "execution_count": 65,
     "metadata": {},
     "output_type": "execute_result"
    }
   ],
   "source": [
    "X_to_label = pd.read_csv(\"cleaned_total.csv\")[1000:]\n",
    "X_to_label.shape"
   ]
  },
  {
   "cell_type": "code",
   "execution_count": 384,
   "metadata": {},
   "outputs": [
    {
     "data": {
      "text/plain": [
       "(6018, 100)"
      ]
     },
     "execution_count": 384,
     "metadata": {},
     "output_type": "execute_result"
    }
   ],
   "source": [
    "# X_to_label_selected = X_to_label[selected_feature_names]\n",
    "# X_to_label_selected.shape"
   ]
  },
  {
   "cell_type": "code",
   "execution_count": 68,
   "metadata": {},
   "outputs": [
    {
     "name": "stdout",
     "output_type": "stream",
     "text": [
      "Prediction counts:\n",
      " 0     3361\n",
      "-99    1907\n",
      "-1      737\n",
      " 1       13\n",
      "Name: count, dtype: int64\n"
     ]
    }
   ],
   "source": [
    "y_predict = clf_lr_tuned.predict(X_to_label)\n",
    "print(\"Prediction counts:\")\n",
    "print(pd.Series(y_predict).value_counts())"
   ]
  },
  {
   "cell_type": "code",
   "execution_count": 69,
   "metadata": {},
   "outputs": [],
   "source": [
    "# contact labeled and unlabeled data into one dataset\n",
    "labeled = pd.read_excel('comments_final.xlsx', usecols=['Date', 'Text', 'final'])\n",
    "unlabeled = pd.read_csv('filtered_comments.csv')\n"
   ]
  },
  {
   "cell_type": "code",
   "execution_count": 70,
   "metadata": {},
   "outputs": [],
   "source": [
    "labeled['Date'] = labeled['Date'].str.split('_').str[0]  # Keep YYYY-MM-DD\n",
    "labeled = labeled.drop('ID', axis=1, errors='ignore')  # Drop ID if exists\n",
    "labeled = labeled.rename(columns={'final': 'sentiment_score'})\n",
    "\n",
    "unlabeled['Date'] = unlabeled['ID'].str.split('_').str[0]  # Keep YYYY-MM-DD\n",
    "unlabeled = unlabeled.drop('ID', axis=1)\n",
    "unlabeled = unlabeled.rename(columns={'final': 'sentiment_score'})\n"
   ]
  },
  {
   "cell_type": "code",
   "execution_count": 71,
   "metadata": {},
   "outputs": [
    {
     "data": {
      "text/plain": [
       "(7018, 3)"
      ]
     },
     "execution_count": 71,
     "metadata": {},
     "output_type": "execute_result"
    }
   ],
   "source": [
    "all_raw_texts = pd.concat([labeled, unlabeled])\n",
    "all_raw_texts.shape"
   ]
  },
  {
   "cell_type": "code",
   "execution_count": 72,
   "metadata": {},
   "outputs": [
    {
     "data": {
      "text/html": [
       "<div>\n",
       "<style scoped>\n",
       "    .dataframe tbody tr th:only-of-type {\n",
       "        vertical-align: middle;\n",
       "    }\n",
       "\n",
       "    .dataframe tbody tr th {\n",
       "        vertical-align: top;\n",
       "    }\n",
       "\n",
       "    .dataframe thead th {\n",
       "        text-align: right;\n",
       "    }\n",
       "</style>\n",
       "<table border=\"1\" class=\"dataframe\">\n",
       "  <thead>\n",
       "    <tr style=\"text-align: right;\">\n",
       "      <th></th>\n",
       "      <th>Date</th>\n",
       "      <th>Text</th>\n",
       "      <th>sentiment_score</th>\n",
       "    </tr>\n",
       "  </thead>\n",
       "  <tbody>\n",
       "    <tr>\n",
       "      <th>0</th>\n",
       "      <td>2024-11-25</td>\n",
       "      <td>ABSOLUTELY a SCAM      I am at the doctor s of...</td>\n",
       "      <td>-1.0</td>\n",
       "    </tr>\n",
       "    <tr>\n",
       "      <th>1</th>\n",
       "      <td>2024-11-23</td>\n",
       "      <td>It s not special  I promise you</td>\n",
       "      <td>-99.0</td>\n",
       "    </tr>\n",
       "    <tr>\n",
       "      <th>2</th>\n",
       "      <td>2024-11-22</td>\n",
       "      <td>I noticed Forward is currently hiring on Linke...</td>\n",
       "      <td>-99.0</td>\n",
       "    </tr>\n",
       "    <tr>\n",
       "      <th>3</th>\n",
       "      <td>2024-12-08</td>\n",
       "      <td>Yes gross taxable  pretax investments lower gr...</td>\n",
       "      <td>-99.0</td>\n",
       "    </tr>\n",
       "    <tr>\n",
       "      <th>4</th>\n",
       "      <td>2024-12-17</td>\n",
       "      <td>Regardless  this isn t a sign of a bad company...</td>\n",
       "      <td>-99.0</td>\n",
       "    </tr>\n",
       "    <tr>\n",
       "      <th>...</th>\n",
       "      <td>...</td>\n",
       "      <td>...</td>\n",
       "      <td>...</td>\n",
       "    </tr>\n",
       "    <tr>\n",
       "      <th>6013</th>\n",
       "      <td>2024-12-17</td>\n",
       "      <td>No  there s no legal requirement for an unpaid...</td>\n",
       "      <td>NaN</td>\n",
       "    </tr>\n",
       "    <tr>\n",
       "      <th>6014</th>\n",
       "      <td>2024-12-17</td>\n",
       "      <td>You are very alone in that opinion which is wh...</td>\n",
       "      <td>NaN</td>\n",
       "    </tr>\n",
       "    <tr>\n",
       "      <th>6015</th>\n",
       "      <td>2024-12-17</td>\n",
       "      <td>The same as any other post obamacare health in...</td>\n",
       "      <td>NaN</td>\n",
       "    </tr>\n",
       "    <tr>\n",
       "      <th>6016</th>\n",
       "      <td>2024-12-17</td>\n",
       "      <td>Thank you for your submission   u AnythingNext...</td>\n",
       "      <td>NaN</td>\n",
       "    </tr>\n",
       "    <tr>\n",
       "      <th>6017</th>\n",
       "      <td>2024-12-17</td>\n",
       "      <td>How was prescription coverage</td>\n",
       "      <td>NaN</td>\n",
       "    </tr>\n",
       "  </tbody>\n",
       "</table>\n",
       "<p>7018 rows × 3 columns</p>\n",
       "</div>"
      ],
      "text/plain": [
       "            Date                                               Text  \\\n",
       "0     2024-11-25  ABSOLUTELY a SCAM      I am at the doctor s of...   \n",
       "1     2024-11-23                    It s not special  I promise you   \n",
       "2     2024-11-22  I noticed Forward is currently hiring on Linke...   \n",
       "3     2024-12-08  Yes gross taxable  pretax investments lower gr...   \n",
       "4     2024-12-17  Regardless  this isn t a sign of a bad company...   \n",
       "...          ...                                                ...   \n",
       "6013  2024-12-17  No  there s no legal requirement for an unpaid...   \n",
       "6014  2024-12-17  You are very alone in that opinion which is wh...   \n",
       "6015  2024-12-17  The same as any other post obamacare health in...   \n",
       "6016  2024-12-17  Thank you for your submission   u AnythingNext...   \n",
       "6017  2024-12-17                      How was prescription coverage   \n",
       "\n",
       "      sentiment_score  \n",
       "0                -1.0  \n",
       "1               -99.0  \n",
       "2               -99.0  \n",
       "3               -99.0  \n",
       "4               -99.0  \n",
       "...               ...  \n",
       "6013              NaN  \n",
       "6014              NaN  \n",
       "6015              NaN  \n",
       "6016              NaN  \n",
       "6017              NaN  \n",
       "\n",
       "[7018 rows x 3 columns]"
      ]
     },
     "execution_count": 72,
     "metadata": {},
     "output_type": "execute_result"
    }
   ],
   "source": [
    "all_raw_texts"
   ]
  },
  {
   "cell_type": "code",
   "execution_count": 73,
   "metadata": {},
   "outputs": [
    {
     "name": "stderr",
     "output_type": "stream",
     "text": [
      "/var/folders/11/qx8t9mx577s1vr7n1wmm37th0000gn/T/ipykernel_58595/2848339104.py:1: FutureWarning: ChainedAssignmentError: behaviour will change in pandas 3.0!\n",
      "You are setting values through chained assignment. Currently this works in certain cases, but when using Copy-on-Write (which will become the default behaviour in pandas 3.0) this will never work to update the original DataFrame or Series, because the intermediate object on which we are setting values will behave as a copy.\n",
      "A typical example is when you are setting values in a column of a DataFrame, like:\n",
      "\n",
      "df[\"col\"][row_indexer] = value\n",
      "\n",
      "Use `df.loc[row_indexer, \"col\"] = values` instead, to perform the assignment in a single step and ensure this keeps updating the original `df`.\n",
      "\n",
      "See the caveats in the documentation: https://pandas.pydata.org/pandas-docs/stable/user_guide/indexing.html#returning-a-view-versus-a-copy\n",
      "\n",
      "  all_raw_texts['sentiment_score'][1000:] = y_predict\n",
      "/var/folders/11/qx8t9mx577s1vr7n1wmm37th0000gn/T/ipykernel_58595/2848339104.py:1: SettingWithCopyWarning: \n",
      "A value is trying to be set on a copy of a slice from a DataFrame\n",
      "\n",
      "See the caveats in the documentation: https://pandas.pydata.org/pandas-docs/stable/user_guide/indexing.html#returning-a-view-versus-a-copy\n",
      "  all_raw_texts['sentiment_score'][1000:] = y_predict\n"
     ]
    }
   ],
   "source": [
    "all_raw_texts['sentiment_score'][1000:] = y_predict"
   ]
  },
  {
   "cell_type": "code",
   "execution_count": 74,
   "metadata": {},
   "outputs": [
    {
     "data": {
      "text/html": [
       "<div>\n",
       "<style scoped>\n",
       "    .dataframe tbody tr th:only-of-type {\n",
       "        vertical-align: middle;\n",
       "    }\n",
       "\n",
       "    .dataframe tbody tr th {\n",
       "        vertical-align: top;\n",
       "    }\n",
       "\n",
       "    .dataframe thead th {\n",
       "        text-align: right;\n",
       "    }\n",
       "</style>\n",
       "<table border=\"1\" class=\"dataframe\">\n",
       "  <thead>\n",
       "    <tr style=\"text-align: right;\">\n",
       "      <th></th>\n",
       "      <th>Date</th>\n",
       "      <th>Text</th>\n",
       "      <th>sentiment_score</th>\n",
       "    </tr>\n",
       "  </thead>\n",
       "  <tbody>\n",
       "    <tr>\n",
       "      <th>0</th>\n",
       "      <td>2024-11-25</td>\n",
       "      <td>ABSOLUTELY a SCAM      I am at the doctor s of...</td>\n",
       "      <td>-1.0</td>\n",
       "    </tr>\n",
       "    <tr>\n",
       "      <th>1</th>\n",
       "      <td>2024-11-23</td>\n",
       "      <td>It s not special  I promise you</td>\n",
       "      <td>-99.0</td>\n",
       "    </tr>\n",
       "    <tr>\n",
       "      <th>2</th>\n",
       "      <td>2024-11-22</td>\n",
       "      <td>I noticed Forward is currently hiring on Linke...</td>\n",
       "      <td>-99.0</td>\n",
       "    </tr>\n",
       "    <tr>\n",
       "      <th>3</th>\n",
       "      <td>2024-12-08</td>\n",
       "      <td>Yes gross taxable  pretax investments lower gr...</td>\n",
       "      <td>-99.0</td>\n",
       "    </tr>\n",
       "    <tr>\n",
       "      <th>4</th>\n",
       "      <td>2024-12-17</td>\n",
       "      <td>Regardless  this isn t a sign of a bad company...</td>\n",
       "      <td>-99.0</td>\n",
       "    </tr>\n",
       "    <tr>\n",
       "      <th>...</th>\n",
       "      <td>...</td>\n",
       "      <td>...</td>\n",
       "      <td>...</td>\n",
       "    </tr>\n",
       "    <tr>\n",
       "      <th>6013</th>\n",
       "      <td>2024-12-17</td>\n",
       "      <td>No  there s no legal requirement for an unpaid...</td>\n",
       "      <td>-99.0</td>\n",
       "    </tr>\n",
       "    <tr>\n",
       "      <th>6014</th>\n",
       "      <td>2024-12-17</td>\n",
       "      <td>You are very alone in that opinion which is wh...</td>\n",
       "      <td>0.0</td>\n",
       "    </tr>\n",
       "    <tr>\n",
       "      <th>6015</th>\n",
       "      <td>2024-12-17</td>\n",
       "      <td>The same as any other post obamacare health in...</td>\n",
       "      <td>0.0</td>\n",
       "    </tr>\n",
       "    <tr>\n",
       "      <th>6016</th>\n",
       "      <td>2024-12-17</td>\n",
       "      <td>Thank you for your submission   u AnythingNext...</td>\n",
       "      <td>-99.0</td>\n",
       "    </tr>\n",
       "    <tr>\n",
       "      <th>6017</th>\n",
       "      <td>2024-12-17</td>\n",
       "      <td>How was prescription coverage</td>\n",
       "      <td>0.0</td>\n",
       "    </tr>\n",
       "  </tbody>\n",
       "</table>\n",
       "<p>7018 rows × 3 columns</p>\n",
       "</div>"
      ],
      "text/plain": [
       "            Date                                               Text  \\\n",
       "0     2024-11-25  ABSOLUTELY a SCAM      I am at the doctor s of...   \n",
       "1     2024-11-23                    It s not special  I promise you   \n",
       "2     2024-11-22  I noticed Forward is currently hiring on Linke...   \n",
       "3     2024-12-08  Yes gross taxable  pretax investments lower gr...   \n",
       "4     2024-12-17  Regardless  this isn t a sign of a bad company...   \n",
       "...          ...                                                ...   \n",
       "6013  2024-12-17  No  there s no legal requirement for an unpaid...   \n",
       "6014  2024-12-17  You are very alone in that opinion which is wh...   \n",
       "6015  2024-12-17  The same as any other post obamacare health in...   \n",
       "6016  2024-12-17  Thank you for your submission   u AnythingNext...   \n",
       "6017  2024-12-17                      How was prescription coverage   \n",
       "\n",
       "      sentiment_score  \n",
       "0                -1.0  \n",
       "1               -99.0  \n",
       "2               -99.0  \n",
       "3               -99.0  \n",
       "4               -99.0  \n",
       "...               ...  \n",
       "6013            -99.0  \n",
       "6014              0.0  \n",
       "6015              0.0  \n",
       "6016            -99.0  \n",
       "6017              0.0  \n",
       "\n",
       "[7018 rows x 3 columns]"
      ]
     },
     "execution_count": 74,
     "metadata": {},
     "output_type": "execute_result"
    }
   ],
   "source": [
    "all_raw_texts"
   ]
  },
  {
   "cell_type": "code",
   "execution_count": 393,
   "metadata": {},
   "outputs": [],
   "source": [
    "all_raw_texts.to_csv(\"final_data_for_sentiment_analysis_v2.csv\", index=False)"
   ]
  }
 ],
 "metadata": {
  "kernelspec": {
   "display_name": "macs30100",
   "language": "python",
   "name": "python3"
  },
  "language_info": {
   "codemirror_mode": {
    "name": "ipython",
    "version": 3
   },
   "file_extension": ".py",
   "mimetype": "text/x-python",
   "name": "python",
   "nbconvert_exporter": "python",
   "pygments_lexer": "ipython3",
   "version": "3.12.8"
  }
 },
 "nbformat": 4,
 "nbformat_minor": 2
}
