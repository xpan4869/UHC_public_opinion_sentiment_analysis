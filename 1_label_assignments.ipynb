{
 "cells": [
  {
   "cell_type": "code",
   "execution_count": 1,
   "metadata": {},
   "outputs": [],
   "source": [
    "import csv\n",
    "import random\n",
    "from data import extract_data, clean_data\n",
    "import pandas as pd"
   ]
  },
  {
   "cell_type": "code",
   "execution_count": 5,
   "metadata": {},
   "outputs": [
    {
     "data": {
      "text/plain": [
       "2080"
      ]
     },
     "execution_count": 5,
     "metadata": {},
     "output_type": "execute_result"
    }
   ],
   "source": [
    "posts = clean_data(extract_data('r_healthinsurance_posts.jsonl', ['created', 'selftext']))\n",
    "len(posts)"
   ]
  },
  {
   "cell_type": "code",
   "execution_count": 4,
   "metadata": {},
   "outputs": [
    {
     "data": {
      "text/plain": [
       "23438"
      ]
     },
     "execution_count": 4,
     "metadata": {},
     "output_type": "execute_result"
    }
   ],
   "source": [
    "comments = clean_data(extract_data('r_healthinsurance_comments.jsonl', ['created', 'body']))\n",
    "len(comments)"
   ]
  },
  {
   "cell_type": "code",
   "execution_count": 8,
   "metadata": {},
   "outputs": [],
   "source": [
    "post_sample = random.sample(list(posts.items()), 400)\n",
    "df = pd.DataFrame((post_sample), columns=['Date','Text'])\n",
    "df\n",
    "df.to_excel(\"posts_to_label.xlsx\")"
   ]
  },
  {
   "cell_type": "code",
   "execution_count": 9,
   "metadata": {},
   "outputs": [],
   "source": [
    "comment_sample = random.sample(list(comments.items()), 1200)\n",
    "df = pd.DataFrame((comment_sample), columns=['Date','Text'])\n",
    "df.to_excel('comments_to_label.xlsx')"
   ]
  }
 ],
 "metadata": {
  "kernelspec": {
   "display_name": "comp_mod",
   "language": "python",
   "name": "python3"
  },
  "language_info": {
   "codemirror_mode": {
    "name": "ipython",
    "version": 3
   },
   "file_extension": ".py",
   "mimetype": "text/x-python",
   "name": "python",
   "nbconvert_exporter": "python",
   "pygments_lexer": "ipython3",
   "version": "3.13.1"
  }
 },
 "nbformat": 4,
 "nbformat_minor": 2
}
